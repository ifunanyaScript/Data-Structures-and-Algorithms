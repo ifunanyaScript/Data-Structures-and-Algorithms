{
 "cells": [
  {
   "cell_type": "markdown",
   "id": "376b223d",
   "metadata": {},
   "source": [
    "# Merge Sort\n",
    "Merge sort is a recursive sorting algorithm that follows the divide and conquer method.  \n",
    "In this algorithm, an array is split into two sub-arrays, then this sub-arrays __if sorted__ are merged by comparing the values in each array and placing then appropriately in a new array such that this new array is sorted and contains all the values in the previous sub-arrays.<br>  \n",
    "In the previous paragraph, I mentioned that the two sub-arrays can only be merged if they're each sorted. Since we are splitting an initial array into two  \n",
    "sub-arrays, there is no way to ascertain that the sub-arrays yielded from this splitting will be each sorted; Now that is what I call a quandary.<br>  \n",
    "To solve the quandary of uncertainty, the initial array is recursively split, such that the sub-arrays are also split and the sub-arrays after them,  \n",
    "until the point where the recursive split cannot be executed. At this point, the sub-arrays now contain only a single value/element,  \n",
    "and an array containing only one element is effectively sorted. Viola!!!<br>  \n",
    "When the sorted sub-arrays have been actualised, the merging is executed recursively, from the recursion stack of the splitting operation. The merging operation is done by simply comparing the first value/element of the __sorted__ sub-arrays and placing then in a new array, such that the new array remains sorted in an ascending fashion.<br>  \n",
    "Big (O) complexity of Merge Sort:  \n",
    "Time complexity, divide(split) and conquer(merge) __O(nlogn)__  \n",
    "Space complexity, optimised __O(1)__<br>  \n",
    "Now, I'll write the recursive function for merge sort. Let's get to it..."
   ]
  },
  {
   "cell_type": "code",
   "execution_count": 1,
   "id": "b94bebcc",
   "metadata": {},
   "outputs": [],
   "source": [
    "def merge_sort(array):\n",
    "    if len(array) <= 1:\n",
    "        return\n",
    "    midi = len(array)//2\n",
    "    left = array[:midi]\n",
    "    right = array[midi:]\n",
    "    \n",
    "    merge_sort(left)\n",
    "    merge_sort(right)\n",
    "    \n",
    "    merger(left, right, array)"
   ]
  },
  {
   "cell_type": "markdown",
   "id": "9f4235c4",
   "metadata": {},
   "source": [
    "When implementing recursive functions, one must always specify exit conditions that will interrupt the recursion to avoid an infinite loop. Hence, this line...   \n",
    "`if len(array) <= 1:` in the ___merge_sort___ function.  \n",
    "Remember, an array containing only one element/value is effectively sorted, and at this point the recursion can be terminated.<br>  \n",
    "However, the `merger` function which is undefined, is the prospective function that will be used to merge the sorted sub-arrays. This function is very essential as it is the conquer bit of this algorithm and it facilitates sorting the entire array.  \n",
    "Hence, I'll define this merger function next. Let's get to it..."
   ]
  },
  {
   "cell_type": "code",
   "execution_count": 2,
   "id": "33fa2fc3",
   "metadata": {},
   "outputs": [],
   "source": [
    "def merger(a, b, array):\n",
    "    len_a = len(a)\n",
    "    len_b = len(b)\n",
    "    i = j = k = 0\n",
    "    \n",
    "    while i < len_a and j < len_b:\n",
    "        if a[i] <= b[j]:\n",
    "            array[k] = a[i]\n",
    "            i += 1\n",
    "        else:\n",
    "            array[k] = b[j]\n",
    "            j += 1\n",
    "        k += 1\n",
    "            \n",
    "    while i < len_a:\n",
    "        array[k] = a[i]\n",
    "        i += 1\n",
    "        k += 1\n",
    "    \n",
    "    while j < len_b:\n",
    "        array[k] = b[j]\n",
    "        j += 1\n",
    "        k += 1"
   ]
  },
  {
   "cell_type": "code",
   "execution_count": 3,
   "id": "4964a509",
   "metadata": {
    "scrolled": true
   },
   "outputs": [
    {
     "name": "stdout",
     "output_type": "stream",
     "text": [
      "This is an Merge sort demo, from ifunanyaScript\n",
      "_______________________________________________\n",
      "\n",
      "Unsorted array: [3, 4, 8, 1, 6, 9, 7, 2, 5]\n",
      "Sorted array: [1, 2, 3, 4, 5, 6, 7, 8, 9]\n",
      "__________________________________________________________________\n",
      "\n",
      "Unsorted array: [450, 409, 367, 301, 275, 101, 27]\n",
      "Sorted array: [27, 101, 275, 301, 367, 409, 450]\n",
      "__________________________________________________________________\n",
      "\n",
      "Unsorted array: [10, 20, 30, 40]\n",
      "Sorted array: [10, 20, 30, 40]\n",
      "__________________________________________________________________\n",
      "\n",
      "Unsorted array: [40, 30, 20, 10]\n",
      "Sorted array: [10, 20, 30, 40]\n",
      "__________________________________________________________________\n",
      "\n",
      "Unsorted array: [123456789]\n",
      "Sorted array: [123456789]\n",
      "__________________________________________________________________\n",
      "\n",
      "Unsorted array: []\n",
      "Sorted array: []\n",
      "__________________________________________________________________\n",
      "\n",
      "Unsorted array: [0.4, 0.25, 0.075, 0.9, 0.75]\n",
      "Sorted array: [0.075, 0.25, 0.4, 0.75, 0.9]\n",
      "__________________________________________________________________\n"
     ]
    }
   ],
   "source": [
    "if __name__ == \"__main__\":\n",
    "    print(\"This is an Merge sort demo, from ifunanyaScript\")\n",
    "    print(\"_\"*47)\n",
    "    arrays = [\n",
    "        [3, 4, 8, 1, 6, 9, 7, 2, 5],\n",
    "        [450, 409, 367, 301, 275, 101, 27],\n",
    "        [10, 20, 30, 40],\n",
    "        [40, 30, 20, 10],\n",
    "        [123456789],\n",
    "        [],\n",
    "        [0.4, 0.25, 0.075, 0.9, 0.75]\n",
    "    ]\n",
    "    for array in arrays:\n",
    "        print(f\"\\nUnsorted array: {array}\")\n",
    "        merge_sort(array)\n",
    "        print(f\"Sorted array: {array}\")\n",
    "        print(\"_\" * 66)"
   ]
  },
  {
   "cell_type": "code",
   "execution_count": null,
   "id": "2e722ebd",
   "metadata": {},
   "outputs": [],
   "source": []
  }
 ],
 "metadata": {
  "kernelspec": {
   "display_name": "Python 3 (ipykernel)",
   "language": "python",
   "name": "python3"
  },
  "language_info": {
   "codemirror_mode": {
    "name": "ipython",
    "version": 3
   },
   "file_extension": ".py",
   "mimetype": "text/x-python",
   "name": "python",
   "nbconvert_exporter": "python",
   "pygments_lexer": "ipython3",
   "version": "3.9.12"
  }
 },
 "nbformat": 4,
 "nbformat_minor": 5
}
