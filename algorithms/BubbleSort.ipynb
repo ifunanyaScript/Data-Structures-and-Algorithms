{
 "cells": [
  {
   "cell_type": "markdown",
   "id": "90e322b1",
   "metadata": {},
   "source": [
    "# Bubble Sort\n",
    "Bubble sort, also referred to as sinking sort, is a simple sorting algorithm that iterates through an array element by element comparing the current element with the subsequent element and swapping their position if needed.  \n",
    "Elements are swapped if the current one is greater than the subsequent one. The operation is done again and again until the list is finally sorted in ascendingly.  \n",
    "The bubble sort algorithm could also be modified to sort elements in descending order.<br>  \n",
    "\n",
    "The Big O complexity of bubble sort algorithm is;<br>\n",
    "Time complexity __O(n^2)__<br>\n",
    "Space complexity __O(1)__<br>  \n",
    "\n",
    "The bubble sort algorithm can be implemented as an iterative operation and a recursive operation.  \n",
    "I'll be implementing both type of operations.  \n",
    "Let's get to it"
   ]
  },
  {
   "cell_type": "code",
   "execution_count": 1,
   "id": "52704e57",
   "metadata": {},
   "outputs": [],
   "source": [
    "# Iterative bubble sort.\n",
    "def bubble_sortI(array):\n",
    "    length = len(array)\n",
    "    \n",
    "    for i in range(length-1):\n",
    "        swapped = False\n",
    "        for j in range(length-1-i):\n",
    "            if array[j] > array[j+1]:\n",
    "                array[j], array[j+1] = array[j+1], array[j]\n",
    "                swapped = True\n",
    "        if not swapped:\n",
    "            break"
   ]
  },
  {
   "cell_type": "markdown",
   "id": "221fc70b",
   "metadata": {},
   "source": [
    "The I in `bubble_sortI` means iterative. The above function follows the logic I earlier stated.  \n",
    "Elements are swapped in place if the one before is greater than the one after.<br>  \n",
    "Also, I optimized the algorithm to reduce execution time. The optimisation techniques include,<br>\n",
    "reducing sort space after every iteration since the elements at the end of the list are already in place and,<br>checking whether there was a swap after an iteration; if not, it means that the array is sorted and the execution breaks.<br>  \n",
    "\n",
    "Let's test out this sorting function..."
   ]
  },
  {
   "cell_type": "code",
   "execution_count": 2,
   "id": "b94937a3",
   "metadata": {},
   "outputs": [
    {
     "name": "stdout",
     "output_type": "stream",
     "text": [
      "This is a demo of a bubble sort algorithm, from ifunanyaScript.\n",
      "_______________________________________________________________\n",
      "\n",
      "Unsorted array:\n",
      "[4, 1, 66, 8, 2, 39, 90, 6, 450, 32]\n",
      "____________________________________\n",
      "\n",
      "Sorted array:\n",
      "[1, 2, 4, 6, 8, 32, 39, 66, 90, 450]\n"
     ]
    }
   ],
   "source": [
    "if __name__ == \"__main__\":\n",
    "    print(\"This is a demo of a bubble sort algorithm, from ifunanyaScript.\")\n",
    "    print(\"_\" * 63)\n",
    "    print(\"\\nUnsorted array:\")\n",
    "    array = [4, 1, 66, 8, 2, 39, 90, 6, 450, 32]\n",
    "    print(array)\n",
    "    print(\"_\" * 36)\n",
    "    print(\"\\nSorted array:\")\n",
    "    bubble_sortI(array)\n",
    "    print(array)"
   ]
  },
  {
   "cell_type": "markdown",
   "id": "7c9e7e59",
   "metadata": {},
   "source": [
    "Viola!!!<br>\n",
    "The array is sorted in ascending order.<br>  \n",
    "Now, I'll implement the recusive bubble sort..."
   ]
  },
  {
   "cell_type": "code",
   "execution_count": 3,
   "id": "1c14beb7",
   "metadata": {},
   "outputs": [],
   "source": [
    "class RecursiveBubbleSort:\n",
    "    def __init__(self, array):\n",
    "        self.array = array\n",
    " \n",
    "    def bubble_sortR(self, len_array):\n",
    "        # Condition for recursion.\n",
    "        if (len_array == 0 or len_array == 1):\n",
    "            return\n",
    "        \n",
    "        # Loop through the array.\n",
    "        for i in range(len_array - 1):\n",
    "            if self.array[i] < self.array[i+1]:\n",
    "                self.array[i], self.array[i+1] = self.array[i+1], self.array[i]\n",
    "        \n",
    "        # Recursive operation.\n",
    "        self.bubble_sortR(len_array - 1)\n",
    "        \n",
    "        # Return sorted array.\n",
    "        return self.array\n",
    "    \n",
    "    \n",
    "    def print_array(self, array):\n",
    "        # Condition for recursion.\n",
    "        if len(array) == 0:\n",
    "            return\n",
    "        item = array.pop()\n",
    "        print(item, end=\", \")\n",
    "        self.print_array(array)"
   ]
  },
  {
   "cell_type": "markdown",
   "id": "03bfc8e8",
   "metadata": {},
   "source": [
    "I've implemented the recursive approach as a class. This recursive sorting follows the same exact logic.  \n",
    "The only difference is after the swapping, a recursion is invoked.  \n",
    "Also, the `print_array` method is recursive. It's apparent what it's purpose is.<br>  \n",
    "Now that we have this class defined, I'll define a function that will use it to sort values. Let's get to it...."
   ]
  },
  {
   "cell_type": "code",
   "execution_count": 4,
   "id": "1026c22a",
   "metadata": {},
   "outputs": [],
   "source": [
    "def sort(array):\n",
    "    length = len(array)\n",
    "    algo = RecursiveBubbleSort(array)\n",
    "    sorted_array = algo.bubble_sortR(length)\n",
    "    algo.print_array(sorted_array)"
   ]
  },
  {
   "cell_type": "markdown",
   "id": "49d197d9",
   "metadata": {},
   "source": [
    "I'll run a main method to demo the sorting."
   ]
  },
  {
   "cell_type": "code",
   "execution_count": 5,
   "id": "302817ee",
   "metadata": {},
   "outputs": [
    {
     "name": "stdout",
     "output_type": "stream",
     "text": [
      "This is a demo of a bubble sort algorithm, from ifunanyaScript.\n",
      "_______________________________________________________________\n",
      "\n",
      "Unsorted array:\n",
      "[4, 1, 66, 8, 2, 39, 90, 6, 450, 32]\n",
      "____________________________________\n",
      "\n",
      "Sorted array:\n",
      "1, 2, 4, 6, 8, 32, 39, 66, 90, 450, "
     ]
    }
   ],
   "source": [
    "if __name__ == \"__main__\":\n",
    "    print(\"This is a demo of a bubble sort algorithm, from ifunanyaScript.\")\n",
    "    print(\"_\" * 63)\n",
    "    print(\"\\nUnsorted array:\")\n",
    "    array = [4, 1, 66, 8, 2, 39, 90, 6, 450, 32]\n",
    "    print(array)\n",
    "    print(\"_\" * 36)\n",
    "    print(\"\\nSorted array:\")\n",
    "    sort(array)"
   ]
  },
  {
   "cell_type": "markdown",
   "id": "d6f5ccd5",
   "metadata": {},
   "source": [
    "Viola!!!<br>  \n",
    "\n",
    "We could also use this bubble sort algorithm for something more realistic.  \n",
    "For example, we could have a record of customers and a little of their purchase history.  \n",
    "Now, we can sort this customers based on each customer's account balance.  \n",
    "To do this, I'd modify the `bubble_sortI` to support some requirements of the next program. Let's get to it..."
   ]
  },
  {
   "cell_type": "code",
   "execution_count": 6,
   "id": "4b3352a9",
   "metadata": {},
   "outputs": [],
   "source": [
    "def bubble_sortI(entry, key=None):\n",
    "    length = len(entry)\n",
    "    \n",
    "    for i in range(length - 1):\n",
    "        swapped = False\n",
    "        for j in range(length - 1 - i):\n",
    "            if entry[j][key] > entry[j+1][key]:\n",
    "                entry[j], entry[j+1] = entry[j+1], entry[j]\n",
    "                swapped = True\n",
    "        if not swapped:\n",
    "            break"
   ]
  },
  {
   "cell_type": "markdown",
   "id": "54304ee3",
   "metadata": {},
   "source": [
    "Very simple modification.  \n",
    "The function takes a list of dictionaries as an argument.  \n",
    "Then sort these dictionaries by the specified key. Let's test it out..."
   ]
  },
  {
   "cell_type": "code",
   "execution_count": 7,
   "id": "90beb1e0",
   "metadata": {},
   "outputs": [
    {
     "name": "stdout",
     "output_type": "stream",
     "text": [
      "Unsorted Customer Entry:\n"
     ]
    },
    {
     "data": {
      "text/plain": [
       "[{'name': 'Favour', 'purchased items': 12, 'account balance': 3300},\n",
       " {'name': 'Nwajoko', 'purchased items': 35, 'account balance': 450},\n",
       " {'name': 'Ifunanya', 'purchased items': 5, 'account balance': 2500},\n",
       " {'name': 'ifunanyaScript', 'purchased items': 75, 'account balance': 0},\n",
       " {'name': 'Sandra', 'purchased items': 9, 'account balance': 89}]"
      ]
     },
     "execution_count": 7,
     "metadata": {},
     "output_type": "execute_result"
    }
   ],
   "source": [
    "customer_entry = [\n",
    "        { 'name': 'Favour', 'purchased items': 12, 'account balance': 3300},\n",
    "        { 'name': 'Nwajoko', 'purchased items': 35, 'account balance': 450},\n",
    "        { 'name': 'Ifunanya', 'purchased items': 5, 'account balance': 2500},\n",
    "        { 'name': 'ifunanyaScript', 'purchased items': 75,  'account balance': 0},\n",
    "        { 'name': 'Sandra', 'purchased items': 9,  'account balance': 89},\n",
    "    ]\n",
    "print(\"Unsorted Customer Entry:\")\n",
    "customer_entry"
   ]
  },
  {
   "cell_type": "code",
   "execution_count": 8,
   "id": "5013ddee",
   "metadata": {},
   "outputs": [
    {
     "name": "stdout",
     "output_type": "stream",
     "text": [
      "Customer entry sorted by account balance\n"
     ]
    },
    {
     "data": {
      "text/plain": [
       "[{'name': 'ifunanyaScript', 'purchased items': 75, 'account balance': 0},\n",
       " {'name': 'Sandra', 'purchased items': 9, 'account balance': 89},\n",
       " {'name': 'Nwajoko', 'purchased items': 35, 'account balance': 450},\n",
       " {'name': 'Ifunanya', 'purchased items': 5, 'account balance': 2500},\n",
       " {'name': 'Favour', 'purchased items': 12, 'account balance': 3300}]"
      ]
     },
     "execution_count": 8,
     "metadata": {},
     "output_type": "execute_result"
    }
   ],
   "source": [
    "print(\"Customer entry sorted by account balance\")\n",
    "bubble_sortI(customer_entry, key=\"account balance\")\n",
    "customer_entry"
   ]
  },
  {
   "cell_type": "markdown",
   "id": "92faf43d",
   "metadata": {},
   "source": [
    "Perfect! We could also sort the entry by _purchased items_ by just specifying the key in the function call.<br>  \n",
    "\n",
    "The bubble sort algorithm is an inefficient sorting algorithm, because of it's time complexity. For example, if we had to sort a million elements in an array, we'd have to run the operation 1,000,000 ^ 2. However, it is the simplest sorting algorithm.<br>   \n",
    "\n",
    "To get a better comprehension of how this sorting goes on under the hood, you can run and debug this code in an IDE like VS Code and access the variable in the debug console."
   ]
  },
  {
   "cell_type": "code",
   "execution_count": 9,
   "id": "75586c81",
   "metadata": {},
   "outputs": [],
   "source": [
    "# ifunanyaScript"
   ]
  }
 ],
 "metadata": {
  "kernelspec": {
   "display_name": "Python 3 (ipykernel)",
   "language": "python",
   "name": "python3"
  },
  "language_info": {
   "codemirror_mode": {
    "name": "ipython",
    "version": 3
   },
   "file_extension": ".py",
   "mimetype": "text/x-python",
   "name": "python",
   "nbconvert_exporter": "python",
   "pygments_lexer": "ipython3",
   "version": "3.9.12"
  }
 },
 "nbformat": 4,
 "nbformat_minor": 5
}
