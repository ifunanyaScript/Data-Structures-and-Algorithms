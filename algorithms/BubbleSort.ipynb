{
 "cells": [
  {
   "cell_type": "markdown",
   "id": "90e322b1",
   "metadata": {},
   "source": [
    "# Bubble Sort\n",
    "Bubble sort, also referred to as sinking sort, is a simple sorting algorithm that iterates through an array element by element comparing the current element with the subsequent element and swapping their position if needed.  \n",
    "Elements are swapped if the current one is greater than the subsequent one. The operation is done again and again until the list is finally sorted in ascendingly.  \n",
    "The bubble sort algorithm could also be modified to sort elements in descending order.<br>  \n",
    "\n",
    "The Big O complexity of bubble sort algorithm is;<br>\n",
    "Time complexity __O(n^2)__<br>\n",
    "Space complexity __O(1)__<br>  \n",
    "\n",
    "The bubble sort algorithm can be implemented as an iterative operation and a recursive operation.  \n",
    "I'll be implementing both type of operations.  \n",
    "Let's get to it"
   ]
  },
  {
   "cell_type": "code",
   "execution_count": 11,
   "id": "52704e57",
   "metadata": {},
   "outputs": [],
   "source": [
    "# Iterative bubble sort.\n",
    "def bubble_sortI(array):\n",
    "    length = len(array)\n",
    "    \n",
    "    for i in range(length-1):\n",
    "        swapped = False\n",
    "        for j in range(length-1-i):\n",
    "            if array[j] > array[j+1]:\n",
    "                array[j], array[j+1] = array[j+1], array[j]\n",
    "                swapped = True\n",
    "        if not swapped:\n",
    "            break"
   ]
  },
  {
   "cell_type": "markdown",
   "id": "f29141b0",
   "metadata": {},
   "source": [
    "The I in `bubble_sortI` means iterative. The above function follows the logic I earlier stated.  \n",
    "Elements are swapped in place if the one before is greater than the one after.<br>  \n",
    "Also, I optimized the algorithm to reduce execution time. The optimisation techniques include,<br>\n",
    "reducing sort space after every iteration since the elements at the end of the list are already in place and,<br>checking whether there was a swap after an iteration; if not, it means that the array is sorted and the execution breaks.<br>  \n",
    "\n",
    "Let's test out this sorting function..."
   ]
  },
  {
   "cell_type": "code",
   "execution_count": 18,
   "id": "f81dffec",
   "metadata": {},
   "outputs": [
    {
     "name": "stdout",
     "output_type": "stream",
     "text": [
      "This is a demo of a bubble sort algorithm, from ifunanyaScript.\n",
      "_______________________________________________________________\n",
      "\n",
      "Unsorted array:\n",
      "[4, 1, 66, 8, 2, 39, 90, 6, 450, 32]\n",
      "_______________\n",
      "\n",
      "Sorted array:\n",
      "[1, 2, 4, 6, 8, 32, 39, 66, 90, 450]\n"
     ]
    }
   ],
   "source": [
    "if __name__ == \"__main__\":\n",
    "    print(\"This is a demo of a bubble sort algorithm, from ifunanyaScript.\")\n",
    "    print(\"_\" * 63)\n",
    "    print(\"\\nUnsorted array:\")\n",
    "    array = [4, 1, 66, 8, 2, 39, 90, 6, 450, 32]\n",
    "    print(array)\n",
    "    print(\"_\" * 15)\n",
    "    print(\"\\nSorted array:\")\n",
    "    bubble_sortI(array)\n",
    "    print(array)"
   ]
  },
  {
   "cell_type": "markdown",
   "id": "370668dc",
   "metadata": {},
   "source": [
    "Viola!!!<br>\n",
    "The array is sorted in ascending order.<br>  \n",
    "Now, I'll implement the recusive bubble sort..."
   ]
  },
  {
   "cell_type": "code",
   "execution_count": 19,
   "id": "b5ce8aa0",
   "metadata": {},
   "outputs": [],
   "source": [
    "def bubble_sortR(array):\n",
    "    if (len(array) == 0 or len(array) == 1):\n",
    "        "
   ]
  },
  {
   "cell_type": "code",
   "execution_count": null,
   "id": "4d8cd7d1",
   "metadata": {},
   "outputs": [],
   "source": []
  }
 ],
 "metadata": {
  "kernelspec": {
   "display_name": "Python 3 (ipykernel)",
   "language": "python",
   "name": "python3"
  },
  "language_info": {
   "codemirror_mode": {
    "name": "ipython",
    "version": 3
   },
   "file_extension": ".py",
   "mimetype": "text/x-python",
   "name": "python",
   "nbconvert_exporter": "python",
   "pygments_lexer": "ipython3",
   "version": "3.9.12"
  }
 },
 "nbformat": 4,
 "nbformat_minor": 5
}
