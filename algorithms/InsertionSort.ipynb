{
 "cells": [
  {
   "cell_type": "markdown",
   "id": "11ecd2e8",
   "metadata": {},
   "source": [
    "# Insertion Sort\n",
    "Insertion sort is a simple sorting algorithm that works similarly to sorting playing cards i.e, An array is virtually split into a sorted and unsorted part. Then elements from the unsorted part are selected and inserted in a right position in the sorted part. This insertion is done such that the sorted part of the array remains sorted.  \n",
    "\n",
    "This sorting algorithm is one of the simplest sorting algorithms and also has a simple implementation.  \n",
    "Insertion sort is efficient for relatively small data, however, it will be inefficient for bigger data because of time complexities.  \n",
    "Also, this sorting algorithm is very appropriate if the data is already partially sorted, hence, it is an adaptive sorting algorithm.\n",
    "\n",
    "Big (O) complexity of Insertion Sort:\n",
    "Average time complexity, comparisons and swaps __O(n^2)__,<br>\n",
    "Best case time complexity, __O(n)__ comparisons and __O(1)__ swaps<br>\n",
    "Worse case time complexity, comparisons and swaps __O(n^2)__,<br>\n",
    "Space complexity, auxiliary __O(1)__.  \n",
    "\n",
    "Earlier, I stated that an array is split into sorted and unsorted. One would expect that a new array is created and elements from the original array are picked and inserted in the new array. That's a fair way to do it, however, there's a better way.  \n",
    "The array could be sorted in that same array. I'll implement the sorting algorithm and explain the method step by step.  \n",
    "Let's get to it..."
   ]
  },
  {
   "cell_type": "code",
   "execution_count": 11,
   "id": "d5994bb9",
   "metadata": {},
   "outputs": [],
   "source": [
    "def insertion_sort(array):\n",
    "    for i in range(1, len(array)):\n",
    "        key = array[i]\n",
    "        j = i - 1\n",
    "        while j >= 0 and key < array[j]:\n",
    "            array[j+1] = array[j]\n",
    "            j = j - 1\n",
    "        array[j+1] = key"
   ]
  },
  {
   "cell_type": "markdown",
   "id": "147d391e",
   "metadata": {},
   "source": [
    "As I said earlier, the implementation of the insertion sort algorithm is very simple. Just 7 lines of code.  \n",
    "###### How it works?\n",
    "1. Starting from the left side of the array i.e `for i in range(1, len(array))`, a key is selected.<br>\n",
    "    --this key facilitates the comparison of elements in the array--\n",
    "2. The key is used to compare values on the left side of it. While it compares these values, if a value is greater than the key, the position of that value is shifted rightward by 1, hence `array[j+1]`.\n",
    "3. The so called shifting or swapping is done until the comparison process finds a value that is less than the key. When this value is found, the key is simply placed in front of it.<br>\n",
    "    --this process is executed iteratively with regards to the length of the array.--\n",
    "    \n",
    "<br>\n",
    "Now, we can test this function and see if it sorts an array appropriately.<br>\n",
    "Let's get to it..."
   ]
  },
  {
   "cell_type": "code",
   "execution_count": null,
   "id": "347df365",
   "metadata": {},
   "outputs": [],
   "source": [
    "if __name__ == \"__main__\":\n",
    "    print(\"This is an Insertion sort demo, from ifunanyaScript\")\n",
    "    print(\"_\"*46)\n",
    "    arrays = [\n",
    "        [32, 4, 1, 300, 32, 9, 45, 78, 15, 45, 43, 97, 17],\n",
    "        [1, 4, 7, 10, 13, 16, 19, 22, 25, 28],\n",
    "        [450, 409, 367, 301, 275, 101, 27],\n",
    "        [123456789],\n",
    "        [],\n",
    "        [0.4, 0.25, 0.075, 0.9, 0.75]\n",
    "    ]\n",
    "    for array in arrays:\n",
    "        print(f\"\\nUnsorted array: {array}\")\n",
    "        insertion_sort(array)\n",
    "        print(f\"Sorted array: {array}\")\n",
    "        print(\"_\" * 66)"
   ]
  },
  {
   "cell_type": "markdown",
   "id": "23e08253",
   "metadata": {},
   "source": []
  },
  {
   "cell_type": "code",
   "execution_count": null,
   "id": "01159396",
   "metadata": {},
   "outputs": [],
   "source": [
    "# ifunanyaScript"
   ]
  }
 ],
 "metadata": {
  "kernelspec": {
   "display_name": "Python 3 (ipykernel)",
   "language": "python",
   "name": "python3"
  },
  "language_info": {
   "codemirror_mode": {
    "name": "ipython",
    "version": 3
   },
   "file_extension": ".py",
   "mimetype": "text/x-python",
   "name": "python",
   "nbconvert_exporter": "python",
   "pygments_lexer": "ipython3",
   "version": "3.9.12"
  }
 },
 "nbformat": 4,
 "nbformat_minor": 5
}
