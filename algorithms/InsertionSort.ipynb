{
 "cells": [
  {
   "cell_type": "markdown",
   "id": "11ecd2e8",
   "metadata": {},
   "source": [
    "# Insertion Sort\n",
    "Insertion sort is a simple sorting algorithm that works similarly to sorting playing cards i.e, An array is virtually split into a sorted and unsorted part. Then elements from the unsorted part are selected and inserted in a right position in the sorted part. This insertion is done such that the sorted part of the array remains sorted.  \n",
    "\n",
    "This sorting algorithm is one of the simplest sorting algorithms and also has a simple implementation.  \n",
    "Insertion sort is efficient for relatively small data, however, it will be inefficient for bigger data because of time complexities.  \n",
    "Also, this sorting algorithm is very appropriate if the data is already partially sorted, hence, it is an adaptive sorting algorithm.\n",
    "\n",
    "Big (O) complexity of Insertion Sort:\n",
    "Average time complexity, comparisons and swaps __O(n^2)__,<br>\n",
    "Best case time complexity, __O(n)__ comparisons and __O(1)__ swaps<br>\n",
    "Worse case time complexity, comparisons and swaps __O(n^2)__,<br>\n",
    "Space complexity, auxiliary __O(1)__.  \n",
    "\n",
    "Earlier, I stated that an array is split into sorted and unsorted. One would expect that a new array is created and elements from the original array are picked and inserted in the new array. That's a fair way to do it, however, there's a better way.  \n",
    "The array could be sorted in that same array. I'll implement the sorting algorithm and explain the method step by step.  \n",
    "Let's get to it..."
   ]
  },
  {
   "cell_type": "code",
   "execution_count": 1,
   "id": "d5994bb9",
   "metadata": {},
   "outputs": [],
   "source": [
    "def insertion_sort(array):\n",
    "    for i in range(1, len(array)):\n",
    "        key = array[i]\n",
    "        j = i - 1\n",
    "        while j >= 0 and key < array[j]:\n",
    "            array[j+1] = array[j]\n",
    "            j = j - 1\n",
    "        array[j+1] = key"
   ]
  },
  {
   "cell_type": "markdown",
   "id": "583bc4fd",
   "metadata": {},
   "source": [
    "As I said earlier, the implementation of the insertion sort algorithm is very simple. Just 7 lines of code.  \n",
    "###### How it works?\n",
    "1. Starting from the left side of the array i.e `for i in range(1, len(array))`, a key is selected.<br>\n",
    "    --this key facilitates the comparison of elements in the array--\n",
    "2. The key is used to compare values on the left side of it. While it compares these values, if a value is greater than the key, the position of that value is shifted rightward by 1, hence `array[j+1]`.\n",
    "3. The so called shifting or swapping is done until the comparison process finds a value that is less than the key. When this value is found, the key is simply placed in front of it.<br>\n",
    "    --this process is executed iteratively with regards to the length of the array.--\n",
    "    \n",
    "<br>\n",
    "Now, we can test this function and see if it sorts an array appropriately.<br>\n",
    "Let's get to it..."
   ]
  },
  {
   "cell_type": "code",
   "execution_count": 2,
   "id": "1bfae4dd",
   "metadata": {},
   "outputs": [
    {
     "name": "stdout",
     "output_type": "stream",
     "text": [
      "This is an Insertion sort demo, from ifunanyaScript\n",
      "______________________________________________\n",
      "\n",
      "Unsorted array: [32, 4, 1, 300, 32, 9, 45, 78, 15, 45, 43, 97, 17]\n",
      "Sorted array: [1, 4, 9, 15, 17, 32, 32, 43, 45, 45, 78, 97, 300]\n",
      "__________________________________________________________________\n",
      "\n",
      "Unsorted array: [1, 4, 7, 10, 13, 16, 19, 22, 25, 28]\n",
      "Sorted array: [1, 4, 7, 10, 13, 16, 19, 22, 25, 28]\n",
      "__________________________________________________________________\n",
      "\n",
      "Unsorted array: [450, 409, 367, 301, 275, 101, 27]\n",
      "Sorted array: [27, 101, 275, 301, 367, 409, 450]\n",
      "__________________________________________________________________\n",
      "\n",
      "Unsorted array: [123456789]\n",
      "Sorted array: [123456789]\n",
      "__________________________________________________________________\n",
      "\n",
      "Unsorted array: []\n",
      "Sorted array: []\n",
      "__________________________________________________________________\n",
      "\n",
      "Unsorted array: [0.4, 0.25, 0.075, 0.9, 0.75]\n",
      "Sorted array: [0.075, 0.25, 0.4, 0.75, 0.9]\n",
      "__________________________________________________________________\n"
     ]
    }
   ],
   "source": [
    "if __name__ == \"__main__\":\n",
    "    print(\"This is an Insertion sort demo, from ifunanyaScript\")\n",
    "    print(\"_\"*46)\n",
    "    arrays = [\n",
    "        [32, 4, 1, 300, 32, 9, 45, 78, 15, 45, 43, 97, 17],\n",
    "        [1, 4, 7, 10, 13, 16, 19, 22, 25, 28],\n",
    "        [450, 409, 367, 301, 275, 101, 27],\n",
    "        [123456789],\n",
    "        [],\n",
    "        [0.4, 0.25, 0.075, 0.9, 0.75]\n",
    "    ]\n",
    "    for array in arrays:\n",
    "        print(f\"\\nUnsorted array: {array}\")\n",
    "        insertion_sort(array)\n",
    "        print(f\"Sorted array: {array}\")\n",
    "        print(\"_\" * 66)"
   ]
  },
  {
   "cell_type": "markdown",
   "id": "0fc3f911",
   "metadata": {},
   "source": [
    "Viola!!! All sorted appropriately.  \n",
    "\n",
    "I tested a case of decimals and it worked fine. Similarly, I tested a case where the list was sorted in a reversed order and it also worked out fine.  \n",
    "Confidently, we can say this is all good.<br>  \n",
    "To get a better feel of what is going on under the hood, I recommend running and debugging this code in an IDE like VS Code and accessing the variables from the debug console."
   ]
  },
  {
   "cell_type": "markdown",
   "id": "36671ffb",
   "metadata": {},
   "source": [
    "## EXTRA (running median algorithm)\n",
    "Assuming we had a virtual number stream in which a single integer flows in every second, we can create an algorithm that calculates the median of the stream upon each flow of an integer. Thus, the median is calculate again and again as new integers enter the stream. This algorithm can be referred to as a running median algorithm.<br>  \n",
    "\n",
    "__NB:__ The median of an array of number is the middle number of that array when it is sorted in ascending or descending order. Also, if there are two numbers in the middle of the array, the median is the average of those two numbers.<br>\n",
    "\n",
    "Let's get to it..."
   ]
  },
  {
   "cell_type": "code",
   "execution_count": 3,
   "id": "07e3ef80",
   "metadata": {},
   "outputs": [],
   "source": [
    "def insertion_index(array, key):\n",
    "    index = 0\n",
    "    for i in array:\n",
    "        if i > key:\n",
    "            break\n",
    "        else:\n",
    "            index += 1\n",
    "    return index\n",
    "\n",
    "\n",
    "def sorted_insertion(array, key):\n",
    "    index = insertion_index(array, key)\n",
    "    return array[0:index]+[key]+array[index:]"
   ]
  },
  {
   "cell_type": "markdown",
   "id": "79b61a24",
   "metadata": {},
   "source": [
    "As I said earlier, the median can only be gotten if the array is sorted, hence the above functions.  \n",
    "These functions effectively handle the flow of new integers into the stream.<br>  \n",
    "The first function `insertion_index` gets the index in the array where the new integer should be such that the array remains sorted.  \n",
    "The second function `sorted_insertion` places the new integer in the right position in the array, facilitated by the index returned by `insertion_index`.<br>  \n",
    "\n",
    "With these functions, I can now implement the running median algorithm. Let's get to it..."
   ]
  },
  {
   "cell_type": "code",
   "execution_count": null,
   "id": "3adc4dde",
   "metadata": {},
   "outputs": [
    {
     "name": "stdout",
     "output_type": "stream",
     "text": [
      "This is a running median demo from ifunanyaScript.\n",
      "_____________________________________________________________________________________________________________________\n",
      "20\n",
      "Median of [20] : 20\n",
      "\n",
      "40\n",
      "Median of [20, 40] : 30.0\n",
      "\n",
      "60\n",
      "Median of [20, 40, 60] : 40\n",
      "\n",
      "80\n",
      "Median of [20, 40, 60, 80] : 50.0\n",
      "\n",
      "100\n",
      "Median of [20, 40, 60, 80, 100] : 60\n",
      "\n",
      "120\n",
      "Median of [20, 40, 60, 80, 100, 120] : 70.0\n",
      "\n",
      "140\n",
      "Median of [20, 40, 60, 80, 100, 120, 140] : 80\n",
      "\n",
      "160\n",
      "Median of [20, 40, 60, 80, 100, 120, 140, 160] : 90.0\n",
      "\n",
      "180\n",
      "Median of [20, 40, 60, 80, 100, 120, 140, 160, 180] : 100\n",
      "\n",
      "200\n",
      "Median of [20, 40, 60, 80, 100, 120, 140, 160, 180, 200] : 110.0\n",
      "\n"
     ]
    }
   ],
   "source": [
    "if __name__ == \"__main__\":\n",
    "    print('This is a running median demo from ifunanyaScript.')\n",
    "    print('_'*117)\n",
    "    flow = []\n",
    "    count = 0\n",
    "    \n",
    "    while 1==1:\n",
    "        i = int(input())\n",
    "        count += 1\n",
    "        flow = sorted_insertion(flow, i)\n",
    "        if count % 2 == 1:\n",
    "            print(f\"Median of {flow} : {flow[(count)//2]}\\n\")\n",
    "        else:\n",
    "            i1 = count//2\n",
    "            i2 = (count//2) - 1\n",
    "            print(f\"Median of {flow} : {(flow[i1] + flow[i2])/2}\\n\")"
   ]
  },
  {
   "cell_type": "markdown",
   "id": "c94f7f84",
   "metadata": {},
   "source": [
    "Viola!!!<br>\n",
    "The logic is very simple. A user inputs an integer and gets the median of the current stream of integers.<br>  \n",
    "__NB:__ See how the variable `count` is very important. It keeps track of the length of the stream, which is used to get the index of the median number in the stream. Also `while 1==1` is just a funny way of saying `while True`, because `1==1` is a boolean statement that returns `True`."
   ]
  },
  {
   "cell_type": "code",
   "execution_count": 4,
   "id": "b96b5197",
   "metadata": {},
   "outputs": [],
   "source": [
    "# ifunanyaScript"
   ]
  }
 ],
 "metadata": {
  "kernelspec": {
   "display_name": "Python 3 (ipykernel)",
   "language": "python",
   "name": "python3"
  },
  "language_info": {
   "codemirror_mode": {
    "name": "ipython",
    "version": 3
   },
   "file_extension": ".py",
   "mimetype": "text/x-python",
   "name": "python",
   "nbconvert_exporter": "python",
   "pygments_lexer": "ipython3",
   "version": "3.9.12"
  }
 },
 "nbformat": 4,
 "nbformat_minor": 5
}
