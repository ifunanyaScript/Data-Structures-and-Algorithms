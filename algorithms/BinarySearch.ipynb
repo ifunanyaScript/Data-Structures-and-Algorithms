{
 "cells": [
  {
   "cell_type": "markdown",
   "id": "b58e49b9",
   "metadata": {},
   "source": [
    "# Binary Search\n",
    "Binary search, also known as logarithmic search, is a searching algorithm that finds a target value in sorted array by repeatedly dividing the search innterval by half. It's very important to note that the Binary Search algorithm only works provided the list/array is sorted.  \n",
    "This searching algorithm is quite superior to linear search in terms of time complexity and space complexity.<br>\n",
    "\n",
    "The logic behind this searching algorithm is very simple;  \n",
    "Given a sorted array, intervally begin with the mid element,<br>\n",
    "If the element to be found is equal to the mid element, then return the index of the mid element,<br>\n",
    "Or if the element to be found is less than the mid element of the interval, narrow the interval to the lower half.  \n",
    "Else, narrow it to the upper half.  \n",
    "This process is done iteratively or recursively until the element is found or the interval is empty.<br>  \n",
    "\n",
    "I'll be implementing the iterative method of binary search, as well as the recursive method of binary search.  \n",
    "Also, I will implement a linear search just to compare the time taken for executing both search algorithms.  \n",
    "Let's get to it...."
   ]
  },
  {
   "cell_type": "code",
   "execution_count": 1,
   "id": "03248fd7",
   "metadata": {},
   "outputs": [],
   "source": [
    "# Import time_it for time comprison.\n",
    "from utils import timely\n",
    "\n",
    "\n",
    "@timely\n",
    "def linear_search(array, search_key):\n",
    "    for index, element in enumerate(array):\n",
    "        if element == search_key:\n",
    "            return index\n",
    "    return -1\n",
    "\n",
    "@timely\n",
    "def binary_searchI(array, search_key):\n",
    "    # Minimum index.\n",
    "    mini = 0\n",
    "    # Maximum index.\n",
    "    maxi = len(array) - 1\n",
    "    \n",
    "    while mini <= maxi:\n",
    "        # Middle index.\n",
    "        midi = (mini+maxi)//2\n",
    "        mid_num = array[midi]\n",
    "        \n",
    "        if mid_num == search_key:\n",
    "            return midi\n",
    "        \n",
    "        if mid_num < search_key:\n",
    "            mini = midi + 1\n",
    "        else:\n",
    "            maxi = midi - 1\n",
    "            \n",
    "    return -1\n",
    "\n",
    "\n",
    "def binary_searchR(array, search_key, mini, maxi):\n",
    "    if maxi < mini:\n",
    "        return -1\n",
    "    \n",
    "    midi = (mini+maxi)//2\n",
    "    if midi >= len(array) or midi < 0:\n",
    "        return -1\n",
    "    \n",
    "    mid_num = array[midi]\n",
    "        \n",
    "    if mid_num == search_key:\n",
    "        return midi\n",
    "\n",
    "    if mid_num > search_key:\n",
    "        maxi = midi - 1\n",
    "    else:\n",
    "        mini = midi + 1\n",
    "    \n",
    "    return binary_searchR(array, search_key, mini, maxi)"
   ]
  },
  {
   "cell_type": "markdown",
   "id": "4257a533",
   "metadata": {},
   "source": [
    "The linear search is just a simple for loop iterating over each element in the proposed array, and once it finds an element equal to the search key, it returns the index of that element.<br>  \n",
    "From the above, we can see that there are two binary search function; `binary_searchI` and `binary_searchR`.<br>\n",
    "The I and R stands for Iterative and Recursive respectively.  \n",
    "Both functions follow the logic I explained earlier, in which the middle number is found, then depending on whether the search key is greater or less than the middle number, an appropriate half of the array is discarded.  \n",
    "If the search key is greater than the middle number, the left/lower half is discarded, otherwise, the right/upper half is discarded.  \n",
    "These two functions are essentially the same, except one performs its operation iteratively, while the other performs its operations recursively.<br>  \n",
    "__NB:__ In binary search algorithm, the search key is always found at the `mid_num` of an interval. However, it most likely won't be the first or second interval.<br>  \n",
    "I decorated `linear_search` and `binary_searchI` with `timely`, a decorator that returns how much time each operation takes to execute.  \n",
    "Also, I did not decorate `binary_searchR` because it is a recursive function. Each recursion in a recursive operation will trigger the decorate and make the output messy.<br>  \n",
    "Now, let's see compare the linear search and binary search algorithms...."
   ]
  },
  {
   "cell_type": "code",
   "execution_count": 2,
   "id": "c47b60e2",
   "metadata": {},
   "outputs": [
    {
     "name": "stdout",
     "output_type": "stream",
     "text": [
      "This is a demo of comparison between linear search and binary search, from ifunanyaScript.\n",
      "__________________________________________________________________________________________\n",
      "Execution of linear_search took 0.00265 seconds\n",
      "Search key found at index 50055 using linear search.\n",
      "___________________________________________________\n",
      "\n",
      "\n",
      "Execution of binary_searchI took 8e-05 seconds\n",
      "Search key found at index 50055 using binary search.\n"
     ]
    }
   ],
   "source": [
    "if __name__ == \"__main__\":\n",
    "    print(\"This is a demo of comparison between linear search and binary search, from ifunanyaScript.\")\n",
    "    print(\"_\" * 90)\n",
    "    array = [*range(1, 200000000)]\n",
    "    search_key = 50056\n",
    "    # Linear searching\n",
    "    index = linear_search(array, search_key)\n",
    "    print(f\"Search key found at index {index} using linear search.\")\n",
    "    print(\"_\" * 51)\n",
    "    print(\"\\n\")\n",
    "    index = binary_searchI(array, search_key)\n",
    "    print(f\"Search key found at index {index} using binary search.\")"
   ]
  },
  {
   "cell_type": "markdown",
   "id": "5f3f8d34",
   "metadata": {},
   "source": [
    "Viola!!!<br>\n",
    "It's obvious which algorithm is more efficient.<br>\n",
    "Let's test the recursive function..."
   ]
  },
  {
   "cell_type": "code",
   "execution_count": 4,
   "id": "9d6f40bf",
   "metadata": {},
   "outputs": [
    {
     "data": {
      "text/plain": [
       "50055"
      ]
     },
     "execution_count": 4,
     "metadata": {},
     "output_type": "execute_result"
    }
   ],
   "source": [
    "binary_searchR(array, search_key, mini=0, maxi=(len(array)-1))"
   ]
  },
  {
   "cell_type": "markdown",
   "id": "546c3da6",
   "metadata": {},
   "source": [
    "Now, there could be a scenario where the search key occurs more than once in array. For example, 50056 could appear 4 times in the array, and each will occupy indices; 50055, 50054, 50056, 50057.  \n",
    "Using the binary search functions above, these other ocuurances will be missed.  \n",
    "Hence, I'll be writing a function that addresses this quandry and returns the indices of all occurances.  \n",
    "Let's get to it..."
   ]
  },
  {
   "cell_type": "code",
   "execution_count": 8,
   "id": "e7a0bfce",
   "metadata": {
    "scrolled": false
   },
   "outputs": [],
   "source": [
    "def find_indices(array, search_key):\n",
    "    index = binary_searchI(array, search_key)\n",
    "    indices = [index]\n",
    "    \n",
    "    # Lower half.\n",
    "    i = index - 1\n",
    "    while i >= 0:\n",
    "        if array[i] == search_key:\n",
    "            indices.append(i)\n",
    "        else:\n",
    "            break\n",
    "        i = i - 1\n",
    "    \n",
    "    i = index + 1\n",
    "    \n",
    "    # Upper half.\n",
    "    while i < len(array):\n",
    "        if array[i] == search_key:\n",
    "            indices.append(i)\n",
    "        else:\n",
    "            break\n",
    "        i = i + 1\n",
    "    \n",
    "    return sorted(indices)"
   ]
  },
  {
   "cell_type": "markdown",
   "id": "3a47865a",
   "metadata": {},
   "source": [
    "How does this function work?  \n",
    "There are two while loops in this function. The first handles the lower half of the array and the other handles the upper half.  \n",
    "It's very simple, from the index, we gradually check the lower half with -1 to find any other occurances. Similarly, the upper half is also checked with +1 to find any occurances. The index of any occurance is subsequently appended to the indices list.<br>  \n",
    "\n",
    "I'll modify the earlier defined `array` to contain multiple 50056. We'll see if we can find all instances of the number. Let's get to it...."
   ]
  },
  {
   "cell_type": "code",
   "execution_count": 9,
   "id": "9c61c72a",
   "metadata": {
    "scrolled": true
   },
   "outputs": [
    {
     "name": "stdout",
     "output_type": "stream",
     "text": [
      "binary_searchI took 0.23603 milli-seconds to execute.\n"
     ]
    },
    {
     "data": {
      "text/plain": [
       "[50055]"
      ]
     },
     "execution_count": 9,
     "metadata": {},
     "output_type": "execute_result"
    }
   ],
   "source": [
    "array[50053] = 50056\n",
    "array[50054] = 50056\n",
    "array[50056] = 50056\n",
    "array[50057] = 50056\n",
    "\n",
    "find_indices(array, search_key)"
   ]
  },
  {
   "cell_type": "code",
   "execution_count": null,
   "id": "9eae27d2",
   "metadata": {},
   "outputs": [],
   "source": []
  }
 ],
 "metadata": {
  "kernelspec": {
   "display_name": "Python 3 (ipykernel)",
   "language": "python",
   "name": "python3"
  },
  "language_info": {
   "codemirror_mode": {
    "name": "ipython",
    "version": 3
   },
   "file_extension": ".py",
   "mimetype": "text/x-python",
   "name": "python",
   "nbconvert_exporter": "python",
   "pygments_lexer": "ipython3",
   "version": "3.9.12"
  }
 },
 "nbformat": 4,
 "nbformat_minor": 5
}
