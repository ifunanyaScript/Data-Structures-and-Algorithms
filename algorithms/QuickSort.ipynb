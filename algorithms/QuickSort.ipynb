{
 "cells": [
  {
   "cell_type": "markdown",
   "id": "ebd26859",
   "metadata": {},
   "source": [
    "# Quick Sort\n",
    "Quick sort is a sorting algorithm developed in 1959 by Tony Hoare, a british computer scientist.  \n",
    "It is the fastest and most efficient sorting algorithm, and this makes it the most used as well.  \n",
    "The Quick sort follows the __Divide and Conquer__ logic/algorithm. It is also an in-place sorting algorithm.<br>  \n",
    "\n",
    "###### How does it work?\n",
    "The Quick sort is a __divide and conquer__ algorithm; this means that it divides the problem(array) in every iteration of the operation, and solves each sub problem(sub array) using the same logic. These sub arrays are called partitions, and the method of partitioning the array is the fundamental foundation of the quick sort algorithm.<br>  \n",
    "There are two types of partitioning techniques in quick sort, namely;<br>\n",
    "__Hoare partition__ and __Lomuto partiton__. Hoare's partitioning technique is the most popular and it is also the original technique for quick sort.<br>  \n",
    "\n",
    "__Hoare partition:__\n",
    "1. A _pivot_ is selected from the array; usually the leftmost element of the array.\n",
    "2. The index after _pivot_ is labeled _start_, and the rightmost index is labeled _end_.<br>\n",
    "  --the labeled indices(_start_ and _end_) acts as pointer in the array--\n",
    "3. The _start_ pointer starts moving rightwards, comparing every element in its way with _pivot_, to find an element that is greater than _pivot_. When _start_ pointer finds a greater element than _pivot_, it stops.\n",
    "4. After the _start_ pointer stops, the _end_ pointer starts moving leftwards, comparing every element in its way with _pivot_, to find an element that is less than _pivot_. When _end_ pointer finds a lesser element than _pivot_, it stops.\n",
    "5. When both pointers stop, the elements on which they stopped on is swapped in place.\n",
    "6. Steps 3, 4 and 5, as well as the swapping operation continues until the _end_ pointer crosses over the _start_ pointer, then _pivot_ and the element on the _end_ pointer swap in place.\n",
    "7. After the swap between end and _pivot_, the _pivot_ takes its right position in the array;<br>\n",
    "  --the part of the array left of the _pivot_ is called the left partition and the other is called the right partition.--\n",
    "8. Then the entire process from 1-8 starts again. This is done recursively until the array is sorted.  \n",
    "\n",
    "__Lomuto partiton:__\n",
    "1. A _pivot_ is selected from the array; usually the rightmost element of the array.\n",
    "2. The rightmost index is labeled (p_index).<br>\n",
    "  --*p_index* means partition index--\n",
    "3. *p_index* which acts as a pointer starts moving rightward till it finds an element less than _pivot_, when it finds this element, it stops.\n",
    "4. Another pointer(i) is defined, and it starts from where *p_index* stopped.\n",
    "5. _i_ pointer starts moving rightwards till it finds an element that is less than pivot, when it finds this element, it stops.\n",
    "6. When both pointers have stopped, the element on each of them is swapped in place.<br>\n",
    "  --when both elements swap, the lesser become the *p_index* and the greater becomes the _i_.\n",
    "7. After the swap, steps 3, 4 and 6, as well as the swapping operation continues until pointer _i_ lands on _pivot_, then, the elements on _i_ and *p_index* swap. _pivot_ becomes *p_index*.<br>\n",
    "  --the part of the array left of the _pivot_ is called the left partition and the other is called the right partition.--\n",
    "8. The entire process from 1-8 is recursed until the array is sorted.  \n",
    "\n",
    "These two partition techniques achieved the same thing, however, the Hoare partition is most widely used.<br>  \n",
    "<br>\n",
    "Big (o) complexity of the Quick Sort:\n",
    "Average time complexity is __O(n log(n))__,<br>\n",
    "Worse case time complexity is __O(n^2)__,<br>\n",
    "Space complexity is __O(log(n))__.  \n",
    "\n",
    "I'll be implementing Quick Sort with both types of partitioning techniques. Let's get to it..."
   ]
  },
  {
   "cell_type": "code",
   "execution_count": 10,
   "id": "3d3d21fb",
   "metadata": {},
   "outputs": [],
   "source": [
    "# This is the Hoare Partitioning technique.\n",
    "\n",
    "def partition(array, start, end):\n",
    "    pivot_index = start\n",
    "    pivot = array[pivot_index]\n",
    "    \n",
    "    while start < end:\n",
    "        while start < len(array) and array[start] <= pivot:\n",
    "            start += 1\n",
    "        while array[end] > pivot:\n",
    "            end -= 1\n",
    "        if start < end:\n",
    "            array[start], array[end] = array[end], array[start]\n",
    "    \n",
    "    array[pivot_index], array[end] = array[end], array[pivot_index]\n",
    "    \n",
    "    # return partition index.\n",
    "    return end\n",
    "    \n",
    "    \n",
    "def quick_sort(array, start, end):\n",
    "    if start < end:\n",
    "        pi = partition(array, start, end)\n",
    "        # Left partition.\n",
    "        quick_sort(array, start, pi-1)\n",
    "        # Right partition.\n",
    "        quick_sort(array, pi+1, end)"
   ]
  },
  {
   "cell_type": "markdown",
   "id": "3a8ddbdf",
   "metadata": {},
   "source": [
    "The above funtion follows the exact step which I defined above.  \n",
    "The partitioning is the most important part of the quick sort, because after each partition operation, element that swaps with _end_ is placed in it's right position.  \n",
    "The `quick_sort` function recursively calls the `partition` function, this gets the array passed sorted appropriately.  \n",
    "__NB:__ The while loops in the `partition` function updates the values of _start_ and _end_. At the end of each partition, the _end_ is the right partition index for _pivot_.  \n",
    "\n",
    "Let's test out this function..."
   ]
  },
  {
   "cell_type": "code",
   "execution_count": 12,
   "id": "62729df5",
   "metadata": {},
   "outputs": [
    {
     "name": "stdout",
     "output_type": "stream",
     "text": [
      "Sorted array: [1, 4, 9, 32, 32, 300]\n",
      "Sorted array: [1, 2, 3, 4, 5, 6, 7]\n",
      "Sorted array: [32, 123, 202, 300, 450]\n",
      "Sorted array: [98]\n",
      "Sorted array: []\n",
      "Sorted array: [0.075, 0.25, 0.4, 0.75, 0.9]\n"
     ]
    }
   ],
   "source": [
    "if __name__ == \"__main__\":\n",
    "    test = [\n",
    "        [32, 4, 1, 300, 32, 9],\n",
    "        [1, 2, 3, 4, 5, 6, 7],\n",
    "        [450, 300, 202, 123, 32],\n",
    "        [98],\n",
    "        [],\n",
    "        [0.4, 0.25, 0.075, 0.9, 0.75]\n",
    "    ]\n",
    "    for array in test:\n",
    "        quick_sort(array, 0, len(array)-1)\n",
    "        print(f\"Sorted array: {array}\")"
   ]
  },
  {
   "cell_type": "markdown",
   "id": "3c76b667",
   "metadata": {},
   "source": [
    "Viola! All the arrays are sorted properly.  \n",
    "\n",
    "Now, I'll implement Quick Sort using __Lomuto partition__. Let's get to it..."
   ]
  },
  {
   "cell_type": "code",
   "execution_count": 14,
   "id": "3a83ebc0",
   "metadata": {},
   "outputs": [],
   "source": [
    "# This is the Lomuto Partition technique.\n",
    "\n",
    "def partition(array, start, end):\n",
    "    pivot = array[end]\n",
    "    p_index = start\n",
    "    \n",
    "    \n",
    "    for i in range(start, end):\n",
    "        if array[i] <= pivot:\n",
    "            array[i], array[p_index] = array[p_index], array[i]\n",
    "            p_index += 1\n",
    "    \n",
    "    array[p_index], array[end] = array[end], array[p_index]\n",
    "    \n",
    "    return p_index\n",
    "\n",
    "\n",
    "def quick_sort(array, start, end):\n",
    "    if start < end:\n",
    "        pi = partition(array, start, end)\n",
    "        # Left partition.\n",
    "        quick_sort(array, start, pi-1)\n",
    "        # Right partition.\n",
    "        quick_sort(array, pi+1, end)"
   ]
  },
  {
   "cell_type": "markdown",
   "id": "24320c9d",
   "metadata": {},
   "source": [
    "Similarly, the above function follows the earlier defined steps.  \n",
    "Also, the partitioning is the most important part of this function, and it is called recursively by the `quick_sort` function.  \n",
    "Let's test this out..."
   ]
  },
  {
   "cell_type": "code",
   "execution_count": 15,
   "id": "0a1ba0af",
   "metadata": {},
   "outputs": [
    {
     "name": "stdout",
     "output_type": "stream",
     "text": [
      "Sorted array: [1, 4, 9, 32, 32, 300]\n",
      "Sorted array: [1, 2, 3, 4, 5, 6, 7]\n",
      "Sorted array: [32, 123, 202, 300, 450]\n",
      "Sorted array: [98]\n",
      "Sorted array: []\n",
      "Sorted array: [0.075, 0.25, 0.4, 0.75, 0.9]\n"
     ]
    }
   ],
   "source": [
    "if __name__ == \"__main__\":\n",
    "    test = [\n",
    "        [32, 4, 1, 300, 32, 9],\n",
    "        [1, 2, 3, 4, 5, 6, 7],\n",
    "        [450, 300, 202, 123, 32],\n",
    "        [98],\n",
    "        [],\n",
    "        [0.4, 0.25, 0.075, 0.9, 0.75]\n",
    "    ]\n",
    "    for array in test:\n",
    "        quick_sort(array, 0, len(array)-1)\n",
    "        print(f\"Sorted array: {array}\")"
   ]
  },
  {
   "cell_type": "markdown",
   "id": "ba179609",
   "metadata": {},
   "source": [
    "Fantastic! It works too.  \n",
    "\n",
    "Both partitioning techniques work alright."
   ]
  }
 ],
 "metadata": {
  "kernelspec": {
   "display_name": "Python 3 (ipykernel)",
   "language": "python",
   "name": "python3"
  },
  "language_info": {
   "codemirror_mode": {
    "name": "ipython",
    "version": 3
   },
   "file_extension": ".py",
   "mimetype": "text/x-python",
   "name": "python",
   "nbconvert_exporter": "python",
   "pygments_lexer": "ipython3",
   "version": "3.9.12"
  }
 },
 "nbformat": 4,
 "nbformat_minor": 5
}
