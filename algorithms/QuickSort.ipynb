{
 "cells": [
  {
   "cell_type": "markdown",
   "id": "9fdda83e",
   "metadata": {},
   "source": [
    "# Quick Sort\n",
    "Quick sort is a sorting algorithm developed in 1959 by Tony Hoare, a british computer scientist.  \n",
    "It is the fastest and most efficient sorting algorithm, and this makes it the most used as well.  \n",
    "The Quick sort follows the __Divide and Conquer__ logic/algorithm. It is also an in-place sorting algorithm.<br>  \n",
    "\n",
    "###### How does it work?\n",
    "The Quick sort is a __divide and conquer__ algorithm; this means that it divides the problem(array) in every iteration of the operation, and solves each sub problem(sub array) using the same logic. These sub arrays are called partitions, and the method of partitioning the array is the fundamental foundation of the quick sort algorithm.<br>  \n",
    "There are two types of partitioning techniques in quick sort, namely;<br>\n",
    "__Hoare partition__ and __Lomuto partiton__. Hoare's partitioning technique is the most popular and it is also the original technique for quick sort.<br>  \n",
    "\n",
    "__Hoare partition:__\n",
    "1. A _pivot_ is selected from the array; usually the leftmost element of the array.\n",
    "2. The index after _pivot_ is labeled _start_, and the rightmost index is labeled _end_.<br>\n",
    "  --the labeled indices(_start_ and _end_) acts as pointer in the array--\n",
    "3. The _start_ pointer starts moving rightwards, comparing every element in its way with _pivot_, to find an element that is greater than _pivot_. When _start_ pointer finds a greater element than _pivot_, it stops.\n",
    "4. After the _start_ pointer stops, the _end_ pointer starts moving leftwards, comparing every element in its way with _pivot_, to find an element that is less than _pivot_. When _end_ pointer finds a lesser element than _pivot_, it stops.\n",
    "5. When both pointers stop, the elements on which they stopped on is swapped in place.\n",
    "6. Steps 3, 4 and 5, as well as the swapping operation continues until the _end_ pointer crosses over the _start_ pointer, then _pivot_ and the element on the _end_ pointer swap in place.\n",
    "7. After the swap between end and _pivot_, the _pivot_ takes its right position in the array;<br>\n",
    "  --the part of the array left of the _pivot_ is called the left partition and the other is called the right partition.--\n",
    "8. Then the entire process from 1-8 starts again. This is done recursively until the array is sorted.  \n",
    "\n",
    "__Lomuto partiton:__\n",
    "1. A _pivot_ is selected from the array; usually the rightmost element of the array.\n",
    "2. The rightmost index is labeled (p_index).<br>\n",
    "  --*p_index* means partition index--\n",
    "3. *p_index* which acts as a pointer starts moving rightward till it finds an element less than _pivot_, when it finds this element, it stops.\n",
    "4. Another pointer(i) is defined, and it starts from where *p_index* stopped.\n",
    "5. _i_ pointer starts moving rightwards till it finds an element that is less than pivot, when it finds this element, it stops.\n",
    "6. When both pointers have stopped, the element on each of them is swapped in place.<br>\n",
    "  --when both elements swap, the lesser become the *p_index* and the greater becomes the _i_.\n",
    "7. After the swap, steps 3, 4 and 6, as well as the swapping operation continues until pointer _i_ lands on _pivot_, then, the elements on _i_ and *p_index* swap. _pivot_ becomes *p_index*.<br>\n",
    "  --the part of the array left of the _pivot_ is called the left partition and the other is called the right partition.--\n",
    "8. The entire process from 1-8 is recursed until the array is sorted.  \n",
    "\n",
    "These two partition techniques achieved the same thing, however, the Hoare partition is most widely used.<br>  \n",
    "<br>\n",
    "Big (o) complexity of the Quick Sort:\n",
    "Average time complexity is __O(n log(n))__,<br>\n",
    "Worse case time complexity is __O(n^2)__,<br>\n",
    "Space complexity is __O(log(n))__.  \n",
    "\n",
    "I'll be implementing Quick Sort with both types of partitioning techniques. Let's get to it..."
   ]
  },
  {
   "cell_type": "code",
   "execution_count": 4,
   "id": "63fbcc32",
   "metadata": {},
   "outputs": [
    {
     "name": "stdout",
     "output_type": "stream",
     "text": [
      "[7, 9, 2, 11, 29, 15, 28]\n"
     ]
    }
   ],
   "source": [
    "def partition(array):\n",
    "    pivot = array[0]\n",
    "    start = 1\n",
    "    end = len(array) - 1\n",
    "    \n",
    "    while start < end:\n",
    "        while array[start] <= pivot:\n",
    "            start += 1\n",
    "\n",
    "        while array[end] > pivot:\n",
    "            end -= 1\n",
    "        \n",
    "        if start < end:\n",
    "            array[start], array[end] = array[end], array[start]\n",
    "    \n",
    "    array[0], array[end] = array[end], array[0]\n",
    "    \n",
    "\n",
    "def quick_sort(array):\n",
    "    partition(array)\n",
    "    \n",
    "\n",
    "if __name__ == \"__main__\":\n",
    "    array = [11, 9, 29, 7, 2, 15, 28]\n",
    "    quick_sort(array)\n",
    "    print(array)"
   ]
  },
  {
   "cell_type": "code",
   "execution_count": null,
   "id": "05fdebb0",
   "metadata": {},
   "outputs": [],
   "source": []
  }
 ],
 "metadata": {
  "kernelspec": {
   "display_name": "Python 3 (ipykernel)",
   "language": "python",
   "name": "python3"
  },
  "language_info": {
   "codemirror_mode": {
    "name": "ipython",
    "version": 3
   },
   "file_extension": ".py",
   "mimetype": "text/x-python",
   "name": "python",
   "nbconvert_exporter": "python",
   "pygments_lexer": "ipython3",
   "version": "3.9.12"
  }
 },
 "nbformat": 4,
 "nbformat_minor": 5
}
