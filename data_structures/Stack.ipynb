{
 "cells": [
  {
   "cell_type": "markdown",
   "id": "e86a4b49",
   "metadata": {},
   "source": [
    "# Stack\n",
    "A stack is a linear data structure whose operations are performed following a specific order. This order could be Last In First Out __(LIFO)__ or First In Last Out __(FILO)__.\n",
    "A stack is like a bucket or container in which items are put in, one on top of the other. To access these items, they are retrieved one after the other.<br> So, the last item inserted in the stack is the first item that is retrieved and the first item inserted in the stack is the last item that is retrieved __hence__, __LIFO__ and __FILO__.<br>  \n",
    "There are several use cases of the stack data structure of which includes;<br>\n",
    "Matching tags in HTML and XML, Undo function in any text editor,<br>\n",
    "Infix to Postfix conversion, Backtracking and parenthesis matching,<br>\n",
    "Storing web browser history, Call logs and Notifications, etc.<br>  \n",
    "__NB:__ The Big O time complexity of a Stack;<br>\n",
    "Pushing(insertion) or Popping(retrieval) of an item is __O(1)__<br>\n",
    "Item search is __O(n)__.\n",
    "\n",
    "In Python, we can implement a stack data structure facilitated by __`deque`__ class from __collections__ module.  \n",
    "Let's get to it...."
   ]
  },
  {
   "cell_type": "code",
   "execution_count": 1,
   "id": "614a101b",
   "metadata": {},
   "outputs": [],
   "source": [
    "# Import deque.\n",
    "from collections import deque\n",
    "\n",
    "# Create a stack object.\n",
    "stack = deque()"
   ]
  },
  {
   "cell_type": "code",
   "execution_count": 2,
   "id": "a5e5e651",
   "metadata": {
    "scrolled": true
   },
   "outputs": [
    {
     "data": {
      "text/plain": [
       "deque(['A stack', 'demo from', 'ifunanyaScript'])"
      ]
     },
     "execution_count": 2,
     "metadata": {},
     "output_type": "execute_result"
    }
   ],
   "source": [
    "# Push/Insert items using `.append`.\n",
    "stack.append('A stack')\n",
    "stack.append('demo from')\n",
    "stack.append('ifunanyaScript')\n",
    "stack"
   ]
  },
  {
   "cell_type": "code",
   "execution_count": 3,
   "id": "2fbf8719",
   "metadata": {},
   "outputs": [
    {
     "data": {
      "text/plain": [
       "'ifunanyaScript'"
      ]
     },
     "execution_count": 3,
     "metadata": {},
     "output_type": "execute_result"
    }
   ],
   "source": [
    "# Retrieve items using `.pop`.\n",
    "stack.pop()"
   ]
  },
  {
   "cell_type": "code",
   "execution_count": 4,
   "id": "a9773c16",
   "metadata": {
    "scrolled": true
   },
   "outputs": [
    {
     "data": {
      "text/plain": [
       "deque(['A stack', 'demo from'])"
      ]
     },
     "execution_count": 4,
     "metadata": {},
     "output_type": "execute_result"
    }
   ],
   "source": [
    "stack"
   ]
  },
  {
   "cell_type": "markdown",
   "id": "65d98e40",
   "metadata": {},
   "source": [
    "Notice how 'ifunanyaScript' is no longer in the stack.  \n",
    "`pop` function returns the last item in the stack and subsequently remove that item from the stack.<br>  \n",
    "Now, I'll be implementing a custom `Stack` object, using the `deque` fundamentally.  \n",
    "Let's get to it..."
   ]
  },
  {
   "cell_type": "code",
   "execution_count": 5,
   "id": "d1355bd7",
   "metadata": {},
   "outputs": [],
   "source": [
    "class Stack:\n",
    "    def __init__(self):\n",
    "        self.stack = deque()\n",
    "        \n",
    "    def push(self, item):\n",
    "        self.stack.append(item)\n",
    "    \n",
    "    def pop(self):\n",
    "        return self.stack.pop()\n",
    "    \n",
    "    def squint(self):\n",
    "        return self.stack[-1]\n",
    "    \n",
    "    def isEmpty(self):\n",
    "        return len(self.stack) == 0\n",
    "    \n",
    "    def length(self):\n",
    "        return len(self.stack)"
   ]
  },
  {
   "cell_type": "markdown",
   "id": "fb2eeee3",
   "metadata": {},
   "source": [
    "`push`; this function simply appends a new item to the stack.  \n",
    "`pop`; this function simply returns the last item and subsequently removes that item from the stack.  \n",
    "`squint`; unlike _pop_, this function serves a better purpose of returning the last item without removing it.  \n",
    "`isEmpty`; this function returns __True__ if the stack is empty and __False__ if otherwise.  \n",
    "`length`; Apparently, this function returns the length of the stack.  "
   ]
  },
  {
   "cell_type": "code",
   "execution_count": 6,
   "id": "3f24c96b",
   "metadata": {
    "scrolled": true
   },
   "outputs": [
    {
     "data": {
      "text/plain": [
       "'ifunanyaScript'"
      ]
     },
     "execution_count": 6,
     "metadata": {},
     "output_type": "execute_result"
    }
   ],
   "source": [
    "stack = Stack()\n",
    "stack.push('A stack')\n",
    "stack.push('demo from')\n",
    "stack.push('ifunanyaScript')\n",
    "stack.squint()"
   ]
  },
  {
   "cell_type": "code",
   "execution_count": 7,
   "id": "4e47ae0e",
   "metadata": {},
   "outputs": [
    {
     "data": {
      "text/plain": [
       "deque(['A stack', 'demo from', 'ifunanyaScript'])"
      ]
     },
     "execution_count": 7,
     "metadata": {},
     "output_type": "execute_result"
    }
   ],
   "source": [
    "stack.stack"
   ]
  },
  {
   "cell_type": "code",
   "execution_count": 8,
   "id": "e8eac9c4",
   "metadata": {},
   "outputs": [
    {
     "data": {
      "text/plain": [
       "'ifunanyaScript'"
      ]
     },
     "execution_count": 8,
     "metadata": {},
     "output_type": "execute_result"
    }
   ],
   "source": [
    "stack.pop()"
   ]
  },
  {
   "cell_type": "code",
   "execution_count": 9,
   "id": "5f934d2e",
   "metadata": {},
   "outputs": [
    {
     "data": {
      "text/plain": [
       "deque(['A stack', 'demo from'])"
      ]
     },
     "execution_count": 9,
     "metadata": {},
     "output_type": "execute_result"
    }
   ],
   "source": [
    "stack.stack"
   ]
  },
  {
   "cell_type": "markdown",
   "id": "06db0a46",
   "metadata": {},
   "source": [
    "One use case of a stack is __backtracking__ and __parenthesis matching__ ,  \n",
    "Using the above `Stack` class, I'll write a function for checking parenthesis matching."
   ]
  },
  {
   "cell_type": "code",
   "execution_count": 10,
   "id": "03567a5e",
   "metadata": {},
   "outputs": [],
   "source": [
    "def isMatch(a, b):\n",
    "    match = {\n",
    "        ')': '(',\n",
    "        '}': '{',\n",
    "        ']': '['\n",
    "    }\n",
    "    return match[a] == b\n",
    "\n",
    "def isBalanced(string):\n",
    "    stack = Stack()\n",
    "    for char in string:\n",
    "        if char=='(' or char=='{' or char=='[':\n",
    "            stack.push(char)\n",
    "        if char==')' or char=='}' or char==']':\n",
    "            if stack.length() == 0:\n",
    "                return False\n",
    "            if not isMatch(char, stack.pop()):\n",
    "                return False\n",
    "    \n",
    "    return stack.length() == 0"
   ]
  },
  {
   "cell_type": "markdown",
   "id": "0cc74c16",
   "metadata": {},
   "source": [
    "###### `isMatch`\n",
    "The match dict creates key: value pairs with bracket pairs. The closing brackets are used as keys and the opening brackets are the corresponding values.  \n",
    "With this dict, the function will return __True__ if a closing bracket matches with the opening bracket. Else, it'll return __False__.\n",
    "###### `isBalanced`\n",
    "Initially, a stack object is created.  \n",
    "__Then__, the function checks for any opening brackets in the string, if any is found it is pushed into the stack.  \n",
    "_This is where the importance of LIFO and FILO comes to play.._  \n",
    "__Now__, the function checks for any closing brackets in the string, if any closing bracket is found, it uses `isMatch` to verify the match between that closing bracket and the `stack.pop`(the immediate opposite bracket pair). Then it returns __True__ if it matches and __False__ otherwise. _Simple Logic_.<br>  \n",
    "\n",
    "Let's implement this function..."
   ]
  },
  {
   "cell_type": "code",
   "execution_count": 11,
   "id": "de5f7851",
   "metadata": {},
   "outputs": [
    {
     "data": {
      "text/plain": [
       "True"
      ]
     },
     "execution_count": 11,
     "metadata": {},
     "output_type": "execute_result"
    }
   ],
   "source": [
    "isBalanced('({[Parenthesis Matching from ifunanyaScript]})')"
   ]
  },
  {
   "cell_type": "code",
   "execution_count": 12,
   "id": "8269b1d1",
   "metadata": {},
   "outputs": [
    {
     "data": {
      "text/plain": [
       "False"
      ]
     },
     "execution_count": 12,
     "metadata": {},
     "output_type": "execute_result"
    }
   ],
   "source": [
    "isBalanced('{]There is definitely a glitch here}')"
   ]
  },
  {
   "cell_type": "code",
   "execution_count": 13,
   "id": "9e57a5ce",
   "metadata": {
    "scrolled": true
   },
   "outputs": [
    {
     "data": {
      "text/plain": [
       "True"
      ]
     },
     "execution_count": 13,
     "metadata": {},
     "output_type": "execute_result"
    }
   ],
   "source": [
    "isBalanced('[{Machine Learning Engineer}]')"
   ]
  },
  {
   "cell_type": "code",
   "execution_count": 14,
   "id": "8c179064",
   "metadata": {},
   "outputs": [
    {
     "data": {
      "text/plain": [
       "True"
      ]
     },
     "execution_count": 14,
     "metadata": {},
     "output_type": "execute_result"
    }
   ],
   "source": [
    "isBalanced('({[({[]})]})')"
   ]
  },
  {
   "cell_type": "code",
   "execution_count": 15,
   "id": "1f7df35a",
   "metadata": {},
   "outputs": [
    {
     "data": {
      "text/plain": [
       "False"
      ]
     },
     "execution_count": 15,
     "metadata": {},
     "output_type": "execute_result"
    }
   ],
   "source": [
    "isBalanced('{[123456789)]}')"
   ]
  },
  {
   "cell_type": "markdown",
   "id": "4b2818b6",
   "metadata": {},
   "source": [
    "Using a __stack data structure__ we have been able to implement __parenthesis matching__..."
   ]
  },
  {
   "cell_type": "code",
   "execution_count": 16,
   "id": "ac1efd42",
   "metadata": {},
   "outputs": [],
   "source": [
    "# ifunanyaScript"
   ]
  }
 ],
 "metadata": {
  "kernelspec": {
   "display_name": "Python 3 (ipykernel)",
   "language": "python",
   "name": "python3"
  },
  "language_info": {
   "codemirror_mode": {
    "name": "ipython",
    "version": 3
   },
   "file_extension": ".py",
   "mimetype": "text/x-python",
   "name": "python",
   "nbconvert_exporter": "python",
   "pygments_lexer": "ipython3",
   "version": "3.9.12"
  }
 },
 "nbformat": 4,
 "nbformat_minor": 5
}
