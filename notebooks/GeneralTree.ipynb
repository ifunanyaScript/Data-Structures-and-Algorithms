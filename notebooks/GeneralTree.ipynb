{
 "cells": [
  {
   "cell_type": "markdown",
   "id": "1780e18b",
   "metadata": {},
   "source": [
    "# General Tree\n",
    "A tree is a hierachical data structure  \n",
    "\n",
    "\n",
    "\n",
    "\n",
    "In Python, there's no built-in implementation of a tree data structure. However, it can be implemented as a custom class.  \n",
    "So I'll implement a custom class to demo this data structure.  \n",
    "Let's get to it..."
   ]
  },
  {
   "cell_type": "code",
   "execution_count": 7,
   "id": "417be43b",
   "metadata": {},
   "outputs": [],
   "source": [
    "class Node:\n",
    "    def __init__(self, item):\n",
    "        self.node = item\n",
    "        self.children = []\n",
    "        self.parent = None\n",
    "    \n",
    "    # child is also an instance of this class.\n",
    "    def addChild(self, child):\n",
    "        child.parent = self\n",
    "        self.children.append(child)\n",
    "    \n",
    "    def level(self):\n",
    "        level = 0\n",
    "        parent = self.parent\n",
    "        while parent:\n",
    "            level += 1\n",
    "            parent = parent.parent\n",
    "        return level\n",
    "    \n",
    "    def display(self):\n",
    "        prefix = (' ' * self.level() * 3) + \"|__\" if self.parent else \"\"\n",
    "        print(prefix + self.node)\n",
    "        if self.children:\n",
    "            for child in self.children:\n",
    "                child.display()"
   ]
  },
  {
   "cell_type": "markdown",
   "id": "1f5b3ad4",
   "metadata": {},
   "source": [
    "Earlier, I mentioned that a tree is hierachical, meaning each node is at a level in the tree. This node, depending on its level in the tree could have a parent __and/or__ children.  \n",
    "The `__init__` function of the above class takes note of that order with the initialized variables; `self.node`, `self.children`, `self.parent`.\n",
    "\n",
    "Now, how does this `Node` class work.  \n",
    "Function after function... \n",
    "###### `addChild`\n",
    "This is a very simple function. However, there's something very important going on here.  \n",
    "The prospective child which is also an instance of the `Node` class, has it's parent assigned as `self`.<br>\n",
    "This is to make the parent of that child the current node. Simple.  \n",
    "__NB:__ A child of the root node, is also a node, because that child could also have it's own children.\n",
    "\n",
    "###### `level`\n",
    "This is a utility function that is used in the `display` function.  \n",
    "Initially, the level is zero.  \n",
    "Then, for each parent/ancestor, the level is incremented.\n",
    "Finally, the level is returned.\n",
    "\n",
    "###### `display`\n",
    "Initially, a prefix variable is defined. The essence of this variable is to demonstrate the hierachical structure of the tree.  \n",
    "The length of the prefix attached to the node is determined by the level of that node in the tree.  \n",
    "The root node is printed first, then if that node has children, all of it's children also call `display`. This happens recursively.  \n",
    "__NB:__ the children of any node are also instances of the `Node` class, hence why they can also call `display`."
   ]
  },
  {
   "cell_type": "markdown",
   "id": "df475b03",
   "metadata": {},
   "source": [
    "Now that we have this `Node` class, we can use it to build a tree data structure.  \n",
    "Earlier, I mentioned that the tree data structure can be used to illustrate how folders are stored in a computer's drive. For example, in a Windows Machine, the root folder is __C:__ and in a Mac machine the root folder is __/__.  \n",
    "Then this root folder also has sub directories and this can be perfectly represented using a tree data structure.  \n",
    "Let's get to it..."
   ]
  },
  {
   "cell_type": "code",
   "execution_count": 11,
   "id": "c3e4ea91",
   "metadata": {},
   "outputs": [
    {
     "name": "stdout",
     "output_type": "stream",
     "text": [
      "   /\n",
      "   |__Applications\n",
      "      |__Anaconda-Navigator.app\n",
      "      |__Visual Studio Code.app\n",
      "      |__Postman.app\n",
      "      |__Spotify.app\n",
      "   |__Users\n",
      "      |__shared\n",
      "      |__ifunanyascript\n",
      "   |__System\n",
      "      |__Developer\n",
      "      |__DriverKit\n",
      "      |__iOSSupport\n",
      "   |__Library\n",
      "      |__Apple\n",
      "      |__Application Support\n",
      "      |__Filesystems\n",
      "      |__GPUBundles\n",
      "      |__OSAnalytics\n"
     ]
    }
   ],
   "source": [
    "def ComputerDrive():\n",
    "    root = Node('   /')\n",
    "    \n",
    "    applications = Node('Applications')\n",
    "    applications.addChild(Node('Anaconda-Navigator.app'))\n",
    "    applications.addChild(Node('Visual Studio Code.app'))\n",
    "    applications.addChild(Node('Postman.app'))\n",
    "    applications.addChild(Node('Spotify.app'))\n",
    "    \n",
    "    users = Node('Users')\n",
    "    users.addChild(Node('shared'))\n",
    "    users.addChild(Node('ifunanyascript'))\n",
    "    \n",
    "    system = Node('System')\n",
    "    system.addChild(Node('Developer'))\n",
    "    system.addChild(Node('DriverKit'))\n",
    "    system.addChild(Node('iOSSupport'))\n",
    "    \n",
    "    library = Node('Library')\n",
    "    library.addChild(Node('Apple'))\n",
    "    library.addChild(Node('Application Support'))\n",
    "    library.addChild(Node('Filesystems'))\n",
    "    library.addChild(Node('GPUBundles'))\n",
    "    library.addChild(Node('OSAnalytics'))\n",
    "    \n",
    "    root.addChild(applications)\n",
    "    root.addChild(users)\n",
    "    root.addChild(system)\n",
    "    root.addChild(library)\n",
    "    \n",
    "    return root\n",
    "        \n",
    "if __name__ == \"__main__\":\n",
    "    root = ComputerDrive()\n",
    "    root.display()"
   ]
  },
  {
   "cell_type": "markdown",
   "id": "f00f86a8",
   "metadata": {},
   "source": [
    "Viola!!!<br>\n",
    "This is a mini demo of the hierachy of folders in a Mac machine facilitated by a tree data structure.<br>  \n",
    "I'll go ahead and use this tree data structure to also demonstrate hierachy of Nigeria's Arms of goverment.  \n",
    "To do this I'll modify the earlier defined `Node` class to support some requirements of the next program\n",
    "Let's get to it..."
   ]
  },
  {
   "cell_type": "code",
   "execution_count": null,
   "id": "134aa47a",
   "metadata": {},
   "outputs": [],
   "source": [
    "class Node:\n",
    "    def __init__(self, item):\n",
    "        self.node = item\n",
    "        self.children = []\n",
    "        self.parent = None\n",
    "    \n",
    "    # child is also an instance of this class.\n",
    "    def addChild(self, child):\n",
    "        child.parent = self\n",
    "        self.children.append(child)\n",
    "    \n",
    "    def level(self):\n",
    "        level = 0\n",
    "        parent = self.parent\n",
    "        while parent:\n",
    "            level += 1\n",
    "            parent = parent.parent\n",
    "        return level\n",
    "    \n",
    "    def display(self):\n",
    "        prefix = (' ' * self.level() * 3) + \"|__\" if self.parent else \"\"\n",
    "        print(prefix + self.node)\n",
    "        if self.children:\n",
    "            for child in self.children:\n",
    "                child.display()"
   ]
  }
 ],
 "metadata": {
  "kernelspec": {
   "display_name": "Python 3 (ipykernel)",
   "language": "python",
   "name": "python3"
  },
  "language_info": {
   "codemirror_mode": {
    "name": "ipython",
    "version": 3
   },
   "file_extension": ".py",
   "mimetype": "text/x-python",
   "name": "python",
   "nbconvert_exporter": "python",
   "pygments_lexer": "ipython3",
   "version": "3.9.12"
  }
 },
 "nbformat": 4,
 "nbformat_minor": 5
}
