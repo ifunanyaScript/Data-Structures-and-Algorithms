{
 "cells": [
  {
   "cell_type": "markdown",
   "id": "0774b992",
   "metadata": {},
   "source": [
    "# Stack\n",
    "A stack is a linear data structure whose operations are performed following a specific order. This order could be Last In First Out __(LIFO)__ or First In Last Out __(FILO)__.\n",
    "A stack is like a bucket or container in which items are put in, one on top of the other. To access these items, they are retrieved one after the other.<br> So, the last item inserted in the stack is the first item that is retrieved and the first item inserted in the stack is the last item that is retrieved __hence__, __LIFO__ and __FILO__.<br>  \n",
    "There are several use cases of the stack data structure of which includes;<br>\n",
    "Matching tags in HTML and XML, Undo function in any text editor,<br>\n",
    "Infix to Postfix conversion, Backtracking and parenthesis matching,<br>\n",
    "Storing web browser history, Call logs and Notifications, etc.<br>  \n",
    "__NB:__ The Big O time complexity of a Stack;<br>\n",
    "Pushing(insertion) or Popping(retrieval) an item is __O(1)__<br>\n",
    "Item search is __O(n)__.\n",
    "\n",
    "In Python, we can implement a stack data structure facilitated by __`deque`__ class from __collections__ module.  \n",
    "Let's get to it"
   ]
  },
  {
   "cell_type": "code",
   "execution_count": 4,
   "id": "9deffcef",
   "metadata": {},
   "outputs": [],
   "source": [
    "# Import deque.\n",
    "from collections import deque\n",
    "\n",
    "# Create a stack object.\n",
    "stack = deque()"
   ]
  },
  {
   "cell_type": "code",
   "execution_count": 19,
   "id": "a78ff205",
   "metadata": {
    "scrolled": true
   },
   "outputs": [
    {
     "data": {
      "text/plain": [
       "deque(['A stack', 'demo from', 'ifunanyaScript'])"
      ]
     },
     "execution_count": 19,
     "metadata": {},
     "output_type": "execute_result"
    }
   ],
   "source": [
    "# Pushing/Inserting items using `.append`.\n",
    "stack.append('A stack')\n",
    "stack.append('demo from')\n",
    "stack.append('ifunanyaScript')\n",
    "stack"
   ]
  },
  {
   "cell_type": "code",
   "execution_count": 20,
   "id": "eca43563",
   "metadata": {},
   "outputs": [
    {
     "data": {
      "text/plain": [
       "'ifunanyaScript'"
      ]
     },
     "execution_count": 20,
     "metadata": {},
     "output_type": "execute_result"
    }
   ],
   "source": [
    "# Retrieving items using `.pop`.\n",
    "stack.pop()"
   ]
  },
  {
   "cell_type": "code",
   "execution_count": 21,
   "id": "adc4e5a9",
   "metadata": {
    "scrolled": true
   },
   "outputs": [
    {
     "data": {
      "text/plain": [
       "deque(['A stack', 'demo from'])"
      ]
     },
     "execution_count": 21,
     "metadata": {},
     "output_type": "execute_result"
    }
   ],
   "source": [
    "stack"
   ]
  },
  {
   "cell_type": "markdown",
   "id": "22a188bf",
   "metadata": {},
   "source": [
    "Notice how 'ifunanyaScript' is no longer in the stack.  \n",
    "`pop` function returns the last item in the stack and subsequently remove that item from the stack.<br>  \n",
    "Now, I'll be implementing a custom `Stack` object, using the `deque` fundamentally.  \n",
    "Let's get to it..."
   ]
  },
  {
   "cell_type": "code",
   "execution_count": 19,
   "id": "0e4a14e6",
   "metadata": {},
   "outputs": [],
   "source": [
    "class Stack:\n",
    "    def __init__(self):\n",
    "        self.stack = deque()\n",
    "        \n",
    "    def push(self, item):\n",
    "        self.stack.append(item)\n",
    "    \n",
    "    def pop(self):\n",
    "        return self.stack.pop()\n",
    "    \n",
    "    def squint(self):\n",
    "        return self.stack[-1]\n",
    "    \n",
    "    def isEmpty(self):\n",
    "        return len(self.stack) == 0\n",
    "    \n",
    "    def length(self):\n",
    "        return len(self.stack)"
   ]
  },
  {
   "cell_type": "markdown",
   "id": "d58ea537",
   "metadata": {},
   "source": [
    "`push`; this function simply appends a new item to the stack.  \n",
    "`pop`; this function simply returns the last item and subsequently removes that item from the stack.  \n",
    "`squint`; unlike _pop_, this function serves a better purpose of returning the last item without removing it.  \n",
    "`isEmpty`; this function returns __True__ if the stack is empty and __False__ if otherwise.  \n",
    "`length`; Apparently, this function returns the length of the stack.  "
   ]
  },
  {
   "cell_type": "code",
   "execution_count": 20,
   "id": "ddd6b1bc",
   "metadata": {
    "scrolled": true
   },
   "outputs": [
    {
     "data": {
      "text/plain": [
       "'ifunanyaScript'"
      ]
     },
     "execution_count": 20,
     "metadata": {},
     "output_type": "execute_result"
    }
   ],
   "source": [
    "stack = Stack()\n",
    "stack.push('A stack')\n",
    "stack.push('demo from')\n",
    "stack.push('ifunanyaScript')\n",
    "stack.squint()"
   ]
  },
  {
   "cell_type": "code",
   "execution_count": 21,
   "id": "db71fb6a",
   "metadata": {},
   "outputs": [
    {
     "data": {
      "text/plain": [
       "deque(['A stack', 'demo from', 'ifunanyaScript'])"
      ]
     },
     "execution_count": 21,
     "metadata": {},
     "output_type": "execute_result"
    }
   ],
   "source": [
    "stack.stack"
   ]
  },
  {
   "cell_type": "code",
   "execution_count": 22,
   "id": "7d0c0a18",
   "metadata": {},
   "outputs": [
    {
     "data": {
      "text/plain": [
       "'ifunanyaScript'"
      ]
     },
     "execution_count": 22,
     "metadata": {},
     "output_type": "execute_result"
    }
   ],
   "source": [
    "stack.pop()"
   ]
  },
  {
   "cell_type": "code",
   "execution_count": 23,
   "id": "f5493e2b",
   "metadata": {},
   "outputs": [
    {
     "data": {
      "text/plain": [
       "deque(['A stack', 'demo from'])"
      ]
     },
     "execution_count": 23,
     "metadata": {},
     "output_type": "execute_result"
    }
   ],
   "source": [
    "stack.stack"
   ]
  },
  {
   "cell_type": "markdown",
   "id": "c442d7b8",
   "metadata": {},
   "source": [
    "One use case of a stack is backtracking and parenthesis matching,  \n",
    "Using the above `Stack` class, I'll write a function for checking parenthesis matching."
   ]
  },
  {
   "cell_type": "code",
   "execution_count": 24,
   "id": "ab2fcd08",
   "metadata": {},
   "outputs": [],
   "source": [
    "def isMatch(a, b):\n",
    "    match = {\n",
    "        ')': '(',\n",
    "        '}': '{',\n",
    "        ']': '['\n",
    "    }\n",
    "    return match[a] == b\n",
    "\n",
    "def "
   ]
  },
  {
   "cell_type": "code",
   "execution_count": null,
   "id": "9b815e92",
   "metadata": {},
   "outputs": [],
   "source": [
    "def is_balanced(s):\n",
    "    stack = Stack()\n",
    "    for ch in s:\n",
    "        if ch=='(' or ch=='{' or ch == '[':\n",
    "            stack.push(ch)\n",
    "        if ch==')' or ch=='}' or ch == ']':\n",
    "            if stack.size()==0:\n",
    "                return False\n",
    "            if not is_match(ch,stack.pop()):\n",
    "                return False\n",
    "\n",
    "    return stack.size()==0\n",
    "\n",
    "\n",
    "if __name__ == '__main__':\n",
    "    print(is_balanced(\"({a+b})\"))\n",
    "    print(is_balanced(\"))((a+b}{\"))\n",
    "    print(is_balanced(\"((a+b))\"))\n",
    "    print(is_balanced(\"((a+g))\"))\n",
    "    print(is_balanced(\"))\"))\n",
    "    print(is_balanced(\"[a+b]*(x+2y)*{gg+kk}\"))"
   ]
  }
 ],
 "metadata": {
  "kernelspec": {
   "display_name": "Python 3 (ipykernel)",
   "language": "python",
   "name": "python3"
  },
  "language_info": {
   "codemirror_mode": {
    "name": "ipython",
    "version": 3
   },
   "file_extension": ".py",
   "mimetype": "text/x-python",
   "name": "python",
   "nbconvert_exporter": "python",
   "pygments_lexer": "ipython3",
   "version": "3.9.12"
  }
 },
 "nbformat": 4,
 "nbformat_minor": 5
}
