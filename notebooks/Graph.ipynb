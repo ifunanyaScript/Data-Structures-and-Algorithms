{
 "cells": [
  {
   "cell_type": "markdown",
   "id": "d96bb6e6",
   "metadata": {},
   "source": [
    "# Graph"
   ]
  },
  {
   "cell_type": "code",
   "execution_count": 54,
   "id": "e7cef523",
   "metadata": {},
   "outputs": [],
   "source": [
    "class Node:\n",
    "    def __init__(self, edges):\n",
    "        self.edges = edges\n",
    "        self.dict = {}\n",
    "        for start, end in self.edges:\n",
    "            if start in self.dict:\n",
    "                self.dict[start].append(end)\n",
    "            else:\n",
    "                self.dict[start] = [end]\n",
    "            \n",
    "            \n",
    "    def getPath(self, start, end, path=[]):\n",
    "        path = path + [start]\n",
    "        \n",
    "        if start == end:\n",
    "            return [path]\n",
    "        \n",
    "        if start not in self.dict:\n",
    "            return []\n",
    "        \n",
    "        paths = []\n",
    "        for node in self.dict[start]:\n",
    "            if node not in path:\n",
    "                new_paths = self.getPath(node, end, path)\n",
    "                for p in new_paths:\n",
    "                    paths.append(p)\n",
    "                    \n",
    "        return paths\n",
    "    \n",
    "    \n",
    "    def short(self, start, end, path=[]):\n",
    "        path = path + [start]\n",
    "        if start == end:\n",
    "            return path\n",
    "        \n",
    "        if start not in self.dict:\n",
    "            return None\n",
    "        \n",
    "        short_path = None\n",
    "        for node in self.dict[start]:\n",
    "            if node not in path:\n",
    "                new_path = self.short(node, end, path)\n",
    "                if new_path:\n",
    "                    if short_path is None or len(new_path) < len(short_path):\n",
    "                        short_path = new_path\n",
    "        return short_path"
   ]
  },
  {
   "cell_type": "code",
   "execution_count": 56,
   "id": "e36f6156",
   "metadata": {},
   "outputs": [
    {
     "name": "stdout",
     "output_type": "stream",
     "text": [
      "Routes  between Paris and New York: ['Paris', 'New York']\n"
     ]
    }
   ],
   "source": [
    "routes = [\n",
    "    (\"Mumbai\", \"Paris\"),\n",
    "    (\"Mumbai\", \"Dubai\"),\n",
    "    (\"Paris\", \"Dubai\"),\n",
    "    (\"Paris\", \"New York\"),\n",
    "    (\"Dubai\", \"New York\"),\n",
    "    (\"New York\", \"Toronto\")\n",
    "]\n",
    "graph = Node(routes)\n",
    "\n",
    "start = \"Paris\"\n",
    "end = \"New York\"\n",
    "\n",
    "print(f\"Routes  between {start} and {end}: {graph.short(start, end)}\")"
   ]
  },
  {
   "cell_type": "code",
   "execution_count": 57,
   "id": "4ca8a970",
   "metadata": {},
   "outputs": [
    {
     "data": {
      "text/plain": [
       "['Mumbai', 'Paris']"
      ]
     },
     "execution_count": 57,
     "metadata": {},
     "output_type": "execute_result"
    }
   ],
   "source": [
    "[\"Mumbai\"] + [\"Paris\"]"
   ]
  },
  {
   "cell_type": "code",
   "execution_count": null,
   "id": "c001eb5e",
   "metadata": {},
   "outputs": [],
   "source": []
  }
 ],
 "metadata": {
  "kernelspec": {
   "display_name": "Python 3 (ipykernel)",
   "language": "python",
   "name": "python3"
  },
  "language_info": {
   "codemirror_mode": {
    "name": "ipython",
    "version": 3
   },
   "file_extension": ".py",
   "mimetype": "text/x-python",
   "name": "python",
   "nbconvert_exporter": "python",
   "pygments_lexer": "ipython3",
   "version": "3.9.12"
  }
 },
 "nbformat": 4,
 "nbformat_minor": 5
}
