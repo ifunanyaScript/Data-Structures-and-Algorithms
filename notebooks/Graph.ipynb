{
 "cells": [
  {
   "cell_type": "markdown",
   "id": "201d3609",
   "metadata": {},
   "source": [
    "# Graph\n",
    "A graph is a non-linear data structure consisting of a defined number of vertices and edges.  \n",
    "These vertices are the nodes that make up the graph and the edges are the lines/arc that connect any two nodes.  \n",
    "In one sentence, a graph data structured can be defined as a set of vertices(V) and a set of edges(E). Thus a graph can be represented as __G(E, V)__.<br>\n",
    "There are numerous variants of the graph data structure, like, __Finite graph, Infinite graph, Trivial graph, Simple graph, Multi graph, Null graph, Pseudo graph,__ to mention a few.  \n",
    "\n",
    "Use cases of a graph data structure;<br>\n",
    "Social networking platforms(users are nodes and their connections are edges),<br>\n",
    "Google Maps(to find shortest routes),<br>\n",
    "Airline systems,<br>\n",
    "Peer to Peer applications,<br>\n",
    "Resource allocation in OS, etc.  \n",
    "\n",
    "A graph is a recursive data structure. This means that, most of the processess in manipulating a graph involves some sort of recursive operations. So, to fully comprehend the graph data structure, one must have quite an understanding of __Recursion__.  \n",
    "\n",
    "__NB:__ One can logic conclusion that the graph data structure is like a network\n",
    "\n",
    "In Python, there's no built-in implementation of the graph data structure. However, it can be implemented as a custom class. Hence, we'll define a class to implemeting the graph data structure. Let's get to it...."
   ]
  },
  {
   "cell_type": "code",
   "execution_count": 54,
   "id": "a8d08ada",
   "metadata": {},
   "outputs": [],
   "source": [
    "class Node:\n",
    "    def __init__(self, edges):\n",
    "        self.edges = edges\n",
    "        self.dict = {}\n",
    "        for start, end in self.edges:\n",
    "            if start in self.dict:\n",
    "                self.dict[start].append(end)\n",
    "            else:\n",
    "                self.dict[start] = [end]\n",
    "            \n",
    "            \n",
    "    def getPath(self, start, end, path=[]):\n",
    "        path = path + [start]\n",
    "        \n",
    "        if start == end:\n",
    "            return [path]\n",
    "        \n",
    "        if start not in self.dict:\n",
    "            return []\n",
    "        \n",
    "        paths = []\n",
    "        for node in self.dict[start]:\n",
    "            if node not in path:\n",
    "                new_paths = self.getPath(node, end, path)\n",
    "                for p in new_paths:\n",
    "                    paths.append(p)\n",
    "                    \n",
    "        return paths\n",
    "    \n",
    "    \n",
    "    def short(self, start, end, path=[]):\n",
    "        path = path + [start]\n",
    "        if start == end:\n",
    "            return path\n",
    "        \n",
    "        if start not in self.dict:\n",
    "            return None\n",
    "        \n",
    "        short_path = None\n",
    "        for node in self.dict[start]:\n",
    "            if node not in path:\n",
    "                new_path = self.short(node, end, path)\n",
    "                if new_path:\n",
    "                    if short_path is None or len(new_path) < len(short_path):\n",
    "                        short_path = new_path\n",
    "        return short_path"
   ]
  },
  {
   "cell_type": "code",
   "execution_count": 56,
   "id": "f3aa0c53",
   "metadata": {},
   "outputs": [
    {
     "name": "stdout",
     "output_type": "stream",
     "text": [
      "Routes  between Paris and New York: ['Paris', 'New York']\n"
     ]
    }
   ],
   "source": [
    "routes = [\n",
    "    (\"Mumbai\", \"Paris\"),\n",
    "    (\"Mumbai\", \"Dubai\"),\n",
    "    (\"Paris\", \"Dubai\"),\n",
    "    (\"Paris\", \"New York\"),\n",
    "    (\"Dubai\", \"New York\"),\n",
    "    (\"New York\", \"Toronto\")\n",
    "]\n",
    "graph = Node(routes)\n",
    "\n",
    "start = \"Paris\"\n",
    "end = \"New York\"\n",
    "\n",
    "print(f\"Routes  between {start} and {end}: {graph.short(start, end)}\")"
   ]
  },
  {
   "cell_type": "code",
   "execution_count": 57,
   "id": "69406f96",
   "metadata": {},
   "outputs": [
    {
     "data": {
      "text/plain": [
       "['Mumbai', 'Paris']"
      ]
     },
     "execution_count": 57,
     "metadata": {},
     "output_type": "execute_result"
    }
   ],
   "source": [
    "[\"Mumbai\"] + [\"Paris\"]"
   ]
  },
  {
   "cell_type": "code",
   "execution_count": null,
   "id": "de12825a",
   "metadata": {},
   "outputs": [],
   "source": []
  }
 ],
 "metadata": {
  "kernelspec": {
   "display_name": "Python 3 (ipykernel)",
   "language": "python",
   "name": "python3"
  },
  "language_info": {
   "codemirror_mode": {
    "name": "ipython",
    "version": 3
   },
   "file_extension": ".py",
   "mimetype": "text/x-python",
   "name": "python",
   "nbconvert_exporter": "python",
   "pygments_lexer": "ipython3",
   "version": "3.9.12"
  }
 },
 "nbformat": 4,
 "nbformat_minor": 5
}
