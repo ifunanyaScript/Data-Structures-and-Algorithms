{
 "cells": [
  {
   "cell_type": "markdown",
   "id": "d5e99265",
   "metadata": {},
   "source": [
    "# Queue\n",
    "A queue is a linear data structure that is opened at both ends. This implies that insertion in the queue is done from one end and deletion from the queue is done from the other end.  \n",
    "The queue data structure follows a particular order which is first in first out(FIFO) or last in last out(LILO). This simply means that the first item inserted into the queue is also the first item retrieved from the queue.  \n",
    "This is just like a typical literal queue; a long line of people and whoever came first is served first.<br>  \n",
    "There are some important uses cases of a queue data structure like;  \n",
    "CPU scheduling,<br>\n",
    "IO buffers,<br>\n",
    "Semaphores,<br>\n",
    "Spooling in printers,<br>\n",
    "Mail queue,<br>\n",
    "Another typical example is, messages waiting on a server, to be sent to another user. These messages are queued and sent in the FIFO order.<br>  \n",
    "In Python, we can implement a queue using a list, however it is not optimal because, Python's list are dynamic array and there arise the problem of memory allocation.  \n",
    "A better approach of implement a queue is by using the `deque` class from `collections` library"
   ]
  },
  {
   "cell_type": "code",
   "execution_count": 1,
   "id": "f3521c8f",
   "metadata": {},
   "outputs": [],
   "source": [
    "queue = []"
   ]
  },
  {
   "cell_type": "code",
   "execution_count": 2,
   "id": "ec7c3b10",
   "metadata": {},
   "outputs": [],
   "source": [
    "queue.insert(0, 'ifunanyaScript')\n",
    "queue.insert(0, 'from')\n",
    "queue.insert(0, 'demo')\n",
    "queue.insert(0, 'Queue')"
   ]
  },
  {
   "cell_type": "code",
   "execution_count": 3,
   "id": "c0be9d80",
   "metadata": {},
   "outputs": [
    {
     "data": {
      "text/plain": [
       "['Queue', 'demo', 'from', 'ifunanyaScript']"
      ]
     },
     "execution_count": 3,
     "metadata": {},
     "output_type": "execute_result"
    }
   ],
   "source": [
    "queue"
   ]
  },
  {
   "cell_type": "code",
   "execution_count": 4,
   "id": "d1dc351b",
   "metadata": {},
   "outputs": [
    {
     "data": {
      "text/plain": [
       "'ifunanyaScript'"
      ]
     },
     "execution_count": 4,
     "metadata": {},
     "output_type": "execute_result"
    }
   ],
   "source": [
    "queue.pop()"
   ]
  },
  {
   "cell_type": "code",
   "execution_count": 5,
   "id": "9b0b974b",
   "metadata": {},
   "outputs": [
    {
     "data": {
      "text/plain": [
       "'from'"
      ]
     },
     "execution_count": 5,
     "metadata": {},
     "output_type": "execute_result"
    }
   ],
   "source": [
    "queue.pop()"
   ]
  },
  {
   "cell_type": "code",
   "execution_count": 6,
   "id": "6e6b9421",
   "metadata": {},
   "outputs": [
    {
     "data": {
      "text/plain": [
       "'demo'"
      ]
     },
     "execution_count": 6,
     "metadata": {},
     "output_type": "execute_result"
    }
   ],
   "source": [
    "queue.pop()"
   ]
  },
  {
   "cell_type": "code",
   "execution_count": 7,
   "id": "01befe90",
   "metadata": {},
   "outputs": [
    {
     "data": {
      "text/plain": [
       "'Queue'"
      ]
     },
     "execution_count": 7,
     "metadata": {},
     "output_type": "execute_result"
    }
   ],
   "source": [
    "queue.pop()"
   ]
  },
  {
   "cell_type": "code",
   "execution_count": 8,
   "id": "e96febb3",
   "metadata": {},
   "outputs": [
    {
     "data": {
      "text/plain": [
       "[]"
      ]
     },
     "execution_count": 8,
     "metadata": {},
     "output_type": "execute_result"
    }
   ],
   "source": [
    "queue"
   ]
  },
  {
   "cell_type": "code",
   "execution_count": 9,
   "id": "972bfa7c",
   "metadata": {},
   "outputs": [],
   "source": [
    "# Import double ended queue.\n",
    "from collections import deque\n",
    "\n",
    "# Instantiate a queue object.\n",
    "queue = deque()"
   ]
  },
  {
   "cell_type": "code",
   "execution_count": 10,
   "id": "710a5fd9",
   "metadata": {},
   "outputs": [],
   "source": [
    "queue.appendleft('ifunanyaScript')\n",
    "queue.appendleft('from')\n",
    "queue.appendleft('demo')\n",
    "queue.appendleft('Queue')"
   ]
  },
  {
   "cell_type": "code",
   "execution_count": 11,
   "id": "54df81ec",
   "metadata": {},
   "outputs": [
    {
     "data": {
      "text/plain": [
       "deque(['Queue', 'demo', 'from', 'ifunanyaScript'])"
      ]
     },
     "execution_count": 11,
     "metadata": {},
     "output_type": "execute_result"
    }
   ],
   "source": [
    "queue"
   ]
  },
  {
   "cell_type": "code",
   "execution_count": 12,
   "id": "317a22ba",
   "metadata": {},
   "outputs": [
    {
     "data": {
      "text/plain": [
       "'ifunanyaScript'"
      ]
     },
     "execution_count": 12,
     "metadata": {},
     "output_type": "execute_result"
    }
   ],
   "source": [
    "queue.pop()"
   ]
  },
  {
   "cell_type": "code",
   "execution_count": 13,
   "id": "ec0a204c",
   "metadata": {},
   "outputs": [
    {
     "data": {
      "text/plain": [
       "'from'"
      ]
     },
     "execution_count": 13,
     "metadata": {},
     "output_type": "execute_result"
    }
   ],
   "source": [
    "queue.pop()"
   ]
  },
  {
   "cell_type": "code",
   "execution_count": 14,
   "id": "456ee10d",
   "metadata": {},
   "outputs": [
    {
     "data": {
      "text/plain": [
       "'demo'"
      ]
     },
     "execution_count": 14,
     "metadata": {},
     "output_type": "execute_result"
    }
   ],
   "source": [
    "queue.pop()"
   ]
  },
  {
   "cell_type": "code",
   "execution_count": 15,
   "id": "4d0a5360",
   "metadata": {},
   "outputs": [
    {
     "data": {
      "text/plain": [
       "'Queue'"
      ]
     },
     "execution_count": 15,
     "metadata": {},
     "output_type": "execute_result"
    }
   ],
   "source": [
    "queue.pop()"
   ]
  },
  {
   "cell_type": "code",
   "execution_count": 16,
   "id": "37475313",
   "metadata": {},
   "outputs": [
    {
     "data": {
      "text/plain": [
       "deque([])"
      ]
     },
     "execution_count": 16,
     "metadata": {},
     "output_type": "execute_result"
    }
   ],
   "source": [
    "queue"
   ]
  },
  {
   "cell_type": "code",
   "execution_count": 17,
   "id": "0b214f6f",
   "metadata": {},
   "outputs": [],
   "source": [
    "class Queue:\n",
    "    def __init__(self):\n",
    "        self.buffer = deque()\n",
    "        \n",
    "    def enqueue(self, item):\n",
    "        self.buffer.appendleft(item)\n",
    "        \n",
    "    def dequeue(self):\n",
    "        return self.buffer.pop()\n",
    "    \n",
    "    def isEmpty(self):\n",
    "        return len(self.buffer) == 0\n",
    "    \n",
    "    def length(self):\n",
    "        return len(self.buffer)"
   ]
  },
  {
   "cell_type": "code",
   "execution_count": 18,
   "id": "4e37c978",
   "metadata": {},
   "outputs": [],
   "source": [
    "queue = Queue()"
   ]
  },
  {
   "cell_type": "code",
   "execution_count": 19,
   "id": "c316b556",
   "metadata": {},
   "outputs": [
    {
     "data": {
      "text/plain": [
       "['__class__',\n",
       " '__delattr__',\n",
       " '__dict__',\n",
       " '__dir__',\n",
       " '__doc__',\n",
       " '__eq__',\n",
       " '__format__',\n",
       " '__ge__',\n",
       " '__getattribute__',\n",
       " '__gt__',\n",
       " '__hash__',\n",
       " '__init__',\n",
       " '__init_subclass__',\n",
       " '__le__',\n",
       " '__lt__',\n",
       " '__module__',\n",
       " '__ne__',\n",
       " '__new__',\n",
       " '__reduce__',\n",
       " '__reduce_ex__',\n",
       " '__repr__',\n",
       " '__setattr__',\n",
       " '__sizeof__',\n",
       " '__str__',\n",
       " '__subclasshook__',\n",
       " '__weakref__',\n",
       " 'buffer',\n",
       " 'dequeue',\n",
       " 'enqueue',\n",
       " 'isEmpty',\n",
       " 'length']"
      ]
     },
     "execution_count": 19,
     "metadata": {},
     "output_type": "execute_result"
    }
   ],
   "source": [
    "dir(queue)"
   ]
  },
  {
   "cell_type": "code",
   "execution_count": 20,
   "id": "fb564299",
   "metadata": {},
   "outputs": [
    {
     "data": {
      "text/plain": [
       "True"
      ]
     },
     "execution_count": 20,
     "metadata": {},
     "output_type": "execute_result"
    }
   ],
   "source": [
    "queue.isEmpty()"
   ]
  },
  {
   "cell_type": "code",
   "execution_count": 21,
   "id": "016a5283",
   "metadata": {},
   "outputs": [],
   "source": [
    "queue.enqueue('ifunanyaScript')\n",
    "queue.enqueue('from')\n",
    "queue.enqueue('demo')\n",
    "queue.enqueue('Queue')"
   ]
  },
  {
   "cell_type": "code",
   "execution_count": 22,
   "id": "d3f84f2b",
   "metadata": {},
   "outputs": [
    {
     "data": {
      "text/plain": [
       "<__main__.Queue at 0x7faba28c7070>"
      ]
     },
     "execution_count": 22,
     "metadata": {},
     "output_type": "execute_result"
    }
   ],
   "source": [
    "queue"
   ]
  },
  {
   "cell_type": "code",
   "execution_count": 23,
   "id": "8bddb84d",
   "metadata": {},
   "outputs": [
    {
     "data": {
      "text/plain": [
       "deque(['Queue', 'demo', 'from', 'ifunanyaScript'])"
      ]
     },
     "execution_count": 23,
     "metadata": {},
     "output_type": "execute_result"
    }
   ],
   "source": [
    "queue.buffer"
   ]
  },
  {
   "cell_type": "code",
   "execution_count": 25,
   "id": "038809c5",
   "metadata": {},
   "outputs": [
    {
     "data": {
      "text/plain": [
       "'ifunanyaScript'"
      ]
     },
     "execution_count": 25,
     "metadata": {},
     "output_type": "execute_result"
    }
   ],
   "source": [
    "queue.dequeue()"
   ]
  },
  {
   "cell_type": "code",
   "execution_count": 26,
   "id": "5231fe20",
   "metadata": {},
   "outputs": [
    {
     "data": {
      "text/plain": [
       "'from'"
      ]
     },
     "execution_count": 26,
     "metadata": {},
     "output_type": "execute_result"
    }
   ],
   "source": [
    "queue.dequeue()"
   ]
  },
  {
   "cell_type": "code",
   "execution_count": 27,
   "id": "a75d4a66",
   "metadata": {},
   "outputs": [
    {
     "data": {
      "text/plain": [
       "'demo'"
      ]
     },
     "execution_count": 27,
     "metadata": {},
     "output_type": "execute_result"
    }
   ],
   "source": [
    "queue.dequeue()"
   ]
  },
  {
   "cell_type": "code",
   "execution_count": 28,
   "id": "9cc5261b",
   "metadata": {},
   "outputs": [
    {
     "data": {
      "text/plain": [
       "'Queue'"
      ]
     },
     "execution_count": 28,
     "metadata": {},
     "output_type": "execute_result"
    }
   ],
   "source": [
    "queue.dequeue()"
   ]
  },
  {
   "cell_type": "code",
   "execution_count": 29,
   "id": "f430ad75",
   "metadata": {},
   "outputs": [
    {
     "data": {
      "text/plain": [
       "deque([])"
      ]
     },
     "execution_count": 29,
     "metadata": {},
     "output_type": "execute_result"
    }
   ],
   "source": [
    "queue.buffer"
   ]
  },
  {
   "cell_type": "code",
   "execution_count": 30,
   "id": "56ae570a",
   "metadata": {},
   "outputs": [
    {
     "data": {
      "text/plain": [
       "True"
      ]
     },
     "execution_count": 30,
     "metadata": {},
     "output_type": "execute_result"
    }
   ],
   "source": [
    "queue.isEmpty()"
   ]
  },
  {
   "cell_type": "code",
   "execution_count": 31,
   "id": "059d0040",
   "metadata": {},
   "outputs": [
    {
     "data": {
      "text/plain": [
       "0"
      ]
     },
     "execution_count": 31,
     "metadata": {},
     "output_type": "execute_result"
    }
   ],
   "source": [
    "queue.length()"
   ]
  },
  {
   "cell_type": "code",
   "execution_count": null,
   "id": "515a4c38",
   "metadata": {},
   "outputs": [],
   "source": []
  }
 ],
 "metadata": {
  "kernelspec": {
   "display_name": "Python 3 (ipykernel)",
   "language": "python",
   "name": "python3"
  },
  "language_info": {
   "codemirror_mode": {
    "name": "ipython",
    "version": 3
   },
   "file_extension": ".py",
   "mimetype": "text/x-python",
   "name": "python",
   "nbconvert_exporter": "python",
   "pygments_lexer": "ipython3",
   "version": "3.9.12"
  }
 },
 "nbformat": 4,
 "nbformat_minor": 5
}
