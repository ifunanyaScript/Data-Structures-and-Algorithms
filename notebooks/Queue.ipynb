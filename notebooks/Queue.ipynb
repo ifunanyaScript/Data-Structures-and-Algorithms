{
 "cells": [
  {
   "cell_type": "markdown",
   "id": "ee6aac90",
   "metadata": {},
   "source": [
    "# Queue\n",
    "A queue is a linear data structure that is open at both ends. This implies that insertion in the queue is done from one end and deletion/retrieval from the queue is done from the other end.  \n",
    "The queue data structure follows a particular order which is first in first out(FIFO) or last in last out(LILO). This simply means that the first item inserted into the queue is also the first item retrieved from the queue.\n",
    "This is just like a literal queue; a long line of people and whoever came first is served first.<br>  \n",
    "There are some important use cases of a queue data structure like;  \n",
    "CPU scheduling,<br>\n",
    "IO buffers,<br>\n",
    "Semaphores,<br>\n",
    "Spooling in printers,<br>\n",
    "Mail queue,<br>\n",
    "Another typical example is, messages waiting on a server, to be sent to a user. These messages are queued and sent in the FIFO order.<br>  \n",
    "__NB:__  The Big O time complexity of a Queue;  \n",
    "Insertion or Retrieval(pop) of an item is O(1).  \n",
    "Item search is O(n).<br>\n",
    "The queue data structure is the direct opposite of the __stack__ data structure.\n",
    "\n",
    "In Python, we can implement a queue using a list, however it is not optimal because, a list is dynamic array and the problem of memory allocation arises.  \n",
    "A better approach of implementing a queue is by using the `deque` class from `collections` library.<br>  \n",
    "First, using a list, let's get to it...."
   ]
  },
  {
   "cell_type": "code",
   "execution_count": 1,
   "id": "fc983e16",
   "metadata": {},
   "outputs": [],
   "source": [
    "queue = []\n",
    "\n",
    "queue.insert(0, 'ifunanyaScript')\n",
    "queue.insert(0, 'from')\n",
    "queue.insert(0, 'demo')\n",
    "queue.insert(0, 'Queue')"
   ]
  },
  {
   "cell_type": "markdown",
   "id": "1017b7e0",
   "metadata": {},
   "source": [
    "Each new item is inserted at index zero. This is done so that the preceeding items are pushed to the end of this list.<br>Now, when `.pop()` is called on the list, it returns the item at the end of the list, which is the first item that was inserted into the list.<br>\n",
    "__Thus__, obeying the __FIFO__ order."
   ]
  },
  {
   "cell_type": "code",
   "execution_count": 2,
   "id": "41b4b7af",
   "metadata": {},
   "outputs": [
    {
     "data": {
      "text/plain": [
       "['Queue', 'demo', 'from', 'ifunanyaScript']"
      ]
     },
     "execution_count": 2,
     "metadata": {},
     "output_type": "execute_result"
    }
   ],
   "source": [
    "queue"
   ]
  },
  {
   "cell_type": "code",
   "execution_count": 3,
   "id": "405b78f6",
   "metadata": {},
   "outputs": [
    {
     "data": {
      "text/plain": [
       "'ifunanyaScript'"
      ]
     },
     "execution_count": 3,
     "metadata": {},
     "output_type": "execute_result"
    }
   ],
   "source": [
    "queue.pop()"
   ]
  },
  {
   "cell_type": "code",
   "execution_count": 4,
   "id": "76689ba3",
   "metadata": {},
   "outputs": [
    {
     "data": {
      "text/plain": [
       "'from'"
      ]
     },
     "execution_count": 4,
     "metadata": {},
     "output_type": "execute_result"
    }
   ],
   "source": [
    "queue.pop()"
   ]
  },
  {
   "cell_type": "code",
   "execution_count": 5,
   "id": "f0c7dc36",
   "metadata": {},
   "outputs": [
    {
     "data": {
      "text/plain": [
       "'demo'"
      ]
     },
     "execution_count": 5,
     "metadata": {},
     "output_type": "execute_result"
    }
   ],
   "source": [
    "queue.pop()"
   ]
  },
  {
   "cell_type": "code",
   "execution_count": 6,
   "id": "1863939f",
   "metadata": {},
   "outputs": [
    {
     "data": {
      "text/plain": [
       "'Queue'"
      ]
     },
     "execution_count": 6,
     "metadata": {},
     "output_type": "execute_result"
    }
   ],
   "source": [
    "queue.pop()"
   ]
  },
  {
   "cell_type": "code",
   "execution_count": 7,
   "id": "6b0ff0eb",
   "metadata": {
    "scrolled": true
   },
   "outputs": [
    {
     "data": {
      "text/plain": [
       "[]"
      ]
     },
     "execution_count": 7,
     "metadata": {},
     "output_type": "execute_result"
    }
   ],
   "source": [
    "queue"
   ]
  },
  {
   "cell_type": "markdown",
   "id": "c46d086a",
   "metadata": {},
   "source": [
    "Now, the queue is empty. This is because `.pop()` returns the item at the end of the list and subsequently deletes the item from the list.  \n",
    "Let's implement a queue using the `deque`(double ended queue) from __collections__ library."
   ]
  },
  {
   "cell_type": "code",
   "execution_count": 8,
   "id": "8db6b078",
   "metadata": {},
   "outputs": [],
   "source": [
    "# Import double ended queue.\n",
    "from collections import deque\n",
    "\n",
    "# Instantiate a queue object.\n",
    "queue = deque()\n",
    "\n",
    "# Queue insertion.\n",
    "queue.appendleft('ifunanyaScript')\n",
    "queue.appendleft('from')\n",
    "queue.appendleft('demo')\n",
    "queue.appendleft('Queue')"
   ]
  },
  {
   "cell_type": "markdown",
   "id": "77b98bd9",
   "metadata": {},
   "source": [
    "Items are appended to the left end of the queue in this implementation. This is similar to inserting at index zero in the list implementation.  \n",
    "It is also done to push the preceeding items to the end of the queue, such that when `.pop()` is called, the first item in is the first item out... FIFO."
   ]
  },
  {
   "cell_type": "code",
   "execution_count": 9,
   "id": "d1df0032",
   "metadata": {},
   "outputs": [
    {
     "data": {
      "text/plain": [
       "deque(['Queue', 'demo', 'from', 'ifunanyaScript'])"
      ]
     },
     "execution_count": 9,
     "metadata": {},
     "output_type": "execute_result"
    }
   ],
   "source": [
    "queue"
   ]
  },
  {
   "cell_type": "code",
   "execution_count": 10,
   "id": "478cb40c",
   "metadata": {},
   "outputs": [
    {
     "data": {
      "text/plain": [
       "'ifunanyaScript'"
      ]
     },
     "execution_count": 10,
     "metadata": {},
     "output_type": "execute_result"
    }
   ],
   "source": [
    "queue.pop()"
   ]
  },
  {
   "cell_type": "code",
   "execution_count": 11,
   "id": "8747b248",
   "metadata": {},
   "outputs": [
    {
     "data": {
      "text/plain": [
       "'from'"
      ]
     },
     "execution_count": 11,
     "metadata": {},
     "output_type": "execute_result"
    }
   ],
   "source": [
    "queue.pop()"
   ]
  },
  {
   "cell_type": "code",
   "execution_count": 12,
   "id": "ee6b4204",
   "metadata": {},
   "outputs": [
    {
     "data": {
      "text/plain": [
       "'demo'"
      ]
     },
     "execution_count": 12,
     "metadata": {},
     "output_type": "execute_result"
    }
   ],
   "source": [
    "queue.pop()"
   ]
  },
  {
   "cell_type": "code",
   "execution_count": 13,
   "id": "53caad46",
   "metadata": {},
   "outputs": [
    {
     "data": {
      "text/plain": [
       "'Queue'"
      ]
     },
     "execution_count": 13,
     "metadata": {},
     "output_type": "execute_result"
    }
   ],
   "source": [
    "queue.pop()"
   ]
  },
  {
   "cell_type": "code",
   "execution_count": 14,
   "id": "ea30b16b",
   "metadata": {},
   "outputs": [
    {
     "data": {
      "text/plain": [
       "deque([])"
      ]
     },
     "execution_count": 14,
     "metadata": {},
     "output_type": "execute_result"
    }
   ],
   "source": [
    "queue"
   ]
  },
  {
   "cell_type": "markdown",
   "id": "14d44513",
   "metadata": {},
   "source": [
    "Similarly, the queue is also empty because `.pop()` returns the last item and also deletes it from the queue.<br>  \n",
    "Now, I'll create a custom Queue class using `deque`...."
   ]
  },
  {
   "cell_type": "code",
   "execution_count": 15,
   "id": "3b3118d5",
   "metadata": {},
   "outputs": [],
   "source": [
    "class Queue:\n",
    "    def __init__(self):\n",
    "        self.buffer = deque()\n",
    "        \n",
    "    def enqueue(self, item):\n",
    "        self.buffer.appendleft(item)\n",
    "        \n",
    "    def dequeue(self):\n",
    "        return self.buffer.pop()\n",
    "    \n",
    "    \n",
    "    def isEmpty(self):\n",
    "        return len(self.buffer) == 0\n",
    "    \n",
    "    def length(self):\n",
    "        return len(self.buffer)"
   ]
  },
  {
   "cell_type": "markdown",
   "id": "9eae3ca9",
   "metadata": {},
   "source": [
    "`isEmpty` and `length` are just simple utility functions which I decided to add to the class. "
   ]
  },
  {
   "cell_type": "code",
   "execution_count": 16,
   "id": "82a813a3",
   "metadata": {},
   "outputs": [],
   "source": [
    "queue = Queue()"
   ]
  },
  {
   "cell_type": "code",
   "execution_count": 17,
   "id": "f484c089",
   "metadata": {},
   "outputs": [
    {
     "data": {
      "text/plain": [
       "True"
      ]
     },
     "execution_count": 17,
     "metadata": {},
     "output_type": "execute_result"
    }
   ],
   "source": [
    "queue.isEmpty()"
   ]
  },
  {
   "cell_type": "code",
   "execution_count": 18,
   "id": "f7d9561e",
   "metadata": {},
   "outputs": [
    {
     "data": {
      "text/plain": [
       "(False, 4)"
      ]
     },
     "execution_count": 18,
     "metadata": {},
     "output_type": "execute_result"
    }
   ],
   "source": [
    "queue.enqueue('ifunanyaScript')\n",
    "queue.enqueue('from')\n",
    "queue.enqueue('demo')\n",
    "queue.enqueue('Queue')\n",
    "\n",
    "# Use utility functions to check queue state.\n",
    "queue.isEmpty(), queue.length()"
   ]
  },
  {
   "cell_type": "markdown",
   "id": "9ea08059",
   "metadata": {},
   "source": [
    "The `enqueue` method is calling `appendleft` _bts_"
   ]
  },
  {
   "cell_type": "code",
   "execution_count": 19,
   "id": "d4fdd49f",
   "metadata": {},
   "outputs": [
    {
     "data": {
      "text/plain": [
       "deque(['Queue', 'demo', 'from', 'ifunanyaScript'])"
      ]
     },
     "execution_count": 19,
     "metadata": {},
     "output_type": "execute_result"
    }
   ],
   "source": [
    "queue.buffer"
   ]
  },
  {
   "cell_type": "markdown",
   "id": "00e78539",
   "metadata": {},
   "source": [
    "Now, we can use the `dequeue` method to get the last item from the queue.  \n",
    "The `dequeue` method is calling `pop` _bts_."
   ]
  },
  {
   "cell_type": "code",
   "execution_count": 20,
   "id": "d93f35b8",
   "metadata": {
    "scrolled": false
   },
   "outputs": [
    {
     "data": {
      "text/plain": [
       "'ifunanyaScript'"
      ]
     },
     "execution_count": 20,
     "metadata": {},
     "output_type": "execute_result"
    }
   ],
   "source": [
    "queue.dequeue()"
   ]
  },
  {
   "cell_type": "code",
   "execution_count": 21,
   "id": "2a4dfc27",
   "metadata": {},
   "outputs": [
    {
     "data": {
      "text/plain": [
       "'from'"
      ]
     },
     "execution_count": 21,
     "metadata": {},
     "output_type": "execute_result"
    }
   ],
   "source": [
    "queue.dequeue()"
   ]
  },
  {
   "cell_type": "code",
   "execution_count": 22,
   "id": "4d7c31e3",
   "metadata": {},
   "outputs": [
    {
     "data": {
      "text/plain": [
       "'demo'"
      ]
     },
     "execution_count": 22,
     "metadata": {},
     "output_type": "execute_result"
    }
   ],
   "source": [
    "queue.dequeue()"
   ]
  },
  {
   "cell_type": "code",
   "execution_count": 23,
   "id": "a6cde249",
   "metadata": {},
   "outputs": [
    {
     "data": {
      "text/plain": [
       "'Queue'"
      ]
     },
     "execution_count": 23,
     "metadata": {},
     "output_type": "execute_result"
    }
   ],
   "source": [
    "queue.dequeue()"
   ]
  },
  {
   "cell_type": "code",
   "execution_count": 24,
   "id": "368f73ef",
   "metadata": {
    "scrolled": true
   },
   "outputs": [
    {
     "data": {
      "text/plain": [
       "deque([])"
      ]
     },
     "execution_count": 24,
     "metadata": {},
     "output_type": "execute_result"
    }
   ],
   "source": [
    "queue.buffer"
   ]
  },
  {
   "cell_type": "markdown",
   "id": "2bb87a16",
   "metadata": {},
   "source": [
    "As always the queue is empty because of `pop`."
   ]
  },
  {
   "cell_type": "code",
   "execution_count": 25,
   "id": "79bb5e69",
   "metadata": {
    "scrolled": true
   },
   "outputs": [
    {
     "data": {
      "text/plain": [
       "(True, 0)"
      ]
     },
     "execution_count": 25,
     "metadata": {},
     "output_type": "execute_result"
    }
   ],
   "source": [
    "queue.isEmpty(), queue.length()"
   ]
  },
  {
   "cell_type": "markdown",
   "id": "2d07e176",
   "metadata": {},
   "source": [
    "We can use this `Queue` class to demonstrate the use of a queue data structure in two examples...<br>  \n",
    "The first one is a __place order and serve order__ scenario. Just like a restaurant, where you place an order and you get served.  \n",
    "Well, I'll define two functions, one for placing orders and one for serving orders.  \n",
    "Let's get to it...."
   ]
  },
  {
   "cell_type": "code",
   "execution_count": 26,
   "id": "6a931dcc",
   "metadata": {},
   "outputs": [],
   "source": [
    "import time\n",
    "from threading import Thread\n",
    "\n",
    "\n",
    "psQ = Queue()\n",
    "\n",
    "def placeOrders(orders):\n",
    "    for order in orders:\n",
    "        print(f\"Placing order for: {order}\")\n",
    "        psQ.enqueue(order)\n",
    "        time.sleep(1)\n",
    "\n",
    "\n",
    "def serveOrders():\n",
    "    time.sleep(1.5)\n",
    "    for i in range(len(orders)):\n",
    "        order = psQ.dequeue()\n",
    "        print(f\"Serving: {order}\")\n",
    "        time.sleep(3)"
   ]
  },
  {
   "cell_type": "markdown",
   "id": "9e22df7b",
   "metadata": {},
   "source": [
    "I've imported the `Thread` class because the program I am about to run requires multithreading.  \n",
    "As we know, in a restaurant (in this case), multiple orders can be placed and even when customers are placing orders, employees at the restaurant are working on serving the placed orders. This means that these distinct processes runs simultaneously. \n",
    "Hence, we'll take note of that in the prospective program using a multithread approach.<br>  \n",
    "Also, we'll be taking note of the time. Apparently, when an order is placed, it isn't served immediately.  \n",
    "We are taking note of that brief delay using `time.sleep()`."
   ]
  },
  {
   "cell_type": "code",
   "execution_count": 27,
   "id": "9486d7aa",
   "metadata": {
    "scrolled": true
   },
   "outputs": [
    {
     "name": "stdout",
     "output_type": "stream",
     "text": [
      "Placing order for: jollof\n",
      "Placing order for: garri\n",
      "Serving: jollof\n",
      "Placing order for: eba\n",
      "Placing order for: okra\n",
      "Placing order for: amala\n",
      "Serving: garri\n",
      "Serving: eba\n",
      "Serving: okra\n",
      "Serving: amala\n"
     ]
    }
   ],
   "source": [
    "if __name__ == '__main__':\n",
    "    orders = ['jollof', 'garri', 'eba', 'okra', 'amala']\n",
    "    placingT = Thread(target=placeOrders, args=(orders,))\n",
    "    servingT = Thread(target=serveOrders)\n",
    "\n",
    "    placingT.start()\n",
    "    servingT.start()"
   ]
  },
  {
   "cell_type": "markdown",
   "id": "3dc3f94b",
   "metadata": {},
   "source": [
    "The next example I wish to demostrate is quite simpler. It's more like an extra...<br>\n",
    "We'll write a simple program to generate binary numbers for a specified range.  \n",
    "We'll modified the earlier defined `Queue` class just to satisfy some requirements of the next program. "
   ]
  },
  {
   "cell_type": "code",
   "execution_count": 28,
   "id": "2007c784",
   "metadata": {},
   "outputs": [],
   "source": [
    "class Queue:\n",
    "    def __init__(self):\n",
    "        self.buffer = deque()\n",
    "\n",
    "    def enqueue(self, val):\n",
    "        self.buffer.appendleft(val)\n",
    "\n",
    "    def dequeue(self):\n",
    "        if len(self.buffer)==0:\n",
    "            print(\"Queue is empty\")\n",
    "            return\n",
    "        return self.buffer.pop()\n",
    "\n",
    "    def isEmpty(self):\n",
    "        return len(self.buffer) == 0\n",
    "\n",
    "    def length(self):\n",
    "        return len(self.buffer)\n",
    "\n",
    "    def prime(self):\n",
    "        return self.buffer[-1]\n",
    "\n",
    "def generateBinaries(r):\n",
    "    bQ = Queue()\n",
    "    bQ.enqueue(\"1\")\n",
    "\n",
    "    for i in range(r):\n",
    "        prime = bQ.prime()\n",
    "        print(f\"{prime}\")\n",
    "        bQ.enqueue(f\"{prime}0\")\n",
    "        bQ.enqueue(f\"{prime}1\")\n",
    "\n",
    "        bQ.dequeue()"
   ]
  },
  {
   "cell_type": "markdown",
   "id": "6409346a",
   "metadata": {},
   "source": [
    "I've made two changes to the `Queue` class.  \n",
    "I simply altered `dequeue` method, to return None if the queue is empty.  \n",
    "Then, I defined a `prime`; which simply return the the last item in the queue without deleting it, unlike `pop`.<br>  \n",
    "#### `generateBinaries`\n",
    "With basic knowledge of mathematics, we know how the binary numeral system works.  \n",
    "The first number is __1__, the one that follows it is __1 + 0 -- 10__, the next is __1 + 1 -- 11__. Then the process repeats from __10__, the fourth number is now, __10 + 0 -- 100__, then the fifth one is __10 + 1 -- 101__, and this process of adding 0 and 1 continues for the specified range.  \n",
    "__NB:__ The final line of the function, `bQ.dequeue()`; this will delete the last item in the queue so as to shift the next item. Thisis a very important step in this program."
   ]
  },
  {
   "cell_type": "code",
   "execution_count": 29,
   "id": "91161814",
   "metadata": {
    "scrolled": true
   },
   "outputs": [
    {
     "name": "stdout",
     "output_type": "stream",
     "text": [
      "1\n",
      "10\n",
      "11\n",
      "100\n",
      "101\n",
      "110\n",
      "111\n",
      "1000\n",
      "1001\n",
      "1010\n",
      "1011\n",
      "1100\n",
      "1101\n",
      "1110\n",
      "1111\n"
     ]
    }
   ],
   "source": [
    "if __name__ == '__main__':\n",
    "    generateBinaries(15)"
   ]
  },
  {
   "cell_type": "markdown",
   "id": "2394a77f",
   "metadata": {},
   "source": [
    "Viola!!!<br>\n",
    "Using the queue data structure, we've been able to implement, two programs."
   ]
  },
  {
   "cell_type": "code",
   "execution_count": 30,
   "id": "989b9ecb",
   "metadata": {},
   "outputs": [],
   "source": [
    "# ifunanyaScript"
   ]
  }
 ],
 "metadata": {
  "kernelspec": {
   "display_name": "Python 3 (ipykernel)",
   "language": "python",
   "name": "python3"
  },
  "language_info": {
   "codemirror_mode": {
    "name": "ipython",
    "version": 3
   },
   "file_extension": ".py",
   "mimetype": "text/x-python",
   "name": "python",
   "nbconvert_exporter": "python",
   "pygments_lexer": "ipython3",
   "version": "3.9.12"
  }
 },
 "nbformat": 4,
 "nbformat_minor": 5
}
