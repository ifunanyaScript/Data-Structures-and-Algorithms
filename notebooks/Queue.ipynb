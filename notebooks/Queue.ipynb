{
 "cells": [
  {
   "cell_type": "markdown",
   "id": "5e2e9a65",
   "metadata": {},
   "source": [
    "# Queue\n",
    "A queue is a linear data structure that is open at both ends. This implies that insertion in the queue is done from one end and deletion from the queue is done from the other end.  \n",
    "The queue data structure follows a particular order which is first in first out(FIFO) or last in last out(LILO). This simply means that the first item inserted into the queue is also the first item retrieved from the queue.\n",
    "This is just like a literal queue; a long line of people and whoever came first is served first.<br>  \n",
    "There are some important use cases of a queue data structure like;  \n",
    "CPU scheduling,<br>\n",
    "IO buffers,<br>\n",
    "Semaphores,<br>\n",
    "Spooling in printers,<br>\n",
    "Mail queue,<br>\n",
    "Another typical example is, messages waiting on a server, to be sent to a user. These messages are queued and sent in the FIFO order.<br>  \n",
    "__NB:__ The queue data structure is the direct opposite of the __stack__ data structure.  \n",
    "\n",
    "\n",
    "In Python, we can implement a queue using a list, however it is not optimal because, a list is dynamic array and the problem of memory allocation arises.  \n",
    "A better approach of implementing a queue is by using the `deque` class from `collections` library.<br>  \n",
    "First, using a list, let's get to it...."
   ]
  },
  {
   "cell_type": "code",
   "execution_count": 1,
   "id": "361a7296",
   "metadata": {},
   "outputs": [],
   "source": [
    "queue = []"
   ]
  },
  {
   "cell_type": "code",
   "execution_count": 2,
   "id": "eabc2c35",
   "metadata": {},
   "outputs": [],
   "source": [
    "queue.insert(0, 'ifunanyaScript')\n",
    "queue.insert(0, 'from')\n",
    "queue.insert(0, 'demo')\n",
    "queue.insert(0, 'Queue')"
   ]
  },
  {
   "cell_type": "markdown",
   "id": "0b61c82f",
   "metadata": {},
   "source": [
    "Each new item is inserted at index zero. This is done so that the preceeding items are pushed to the end of this list.<br>Now, when `.pop()` is called on the list, it returns the item at the end of the list, which is the first item that was inserted into the list.<br>\n",
    "__Thus__, obeying the __FIFO__ order."
   ]
  },
  {
   "cell_type": "code",
   "execution_count": 3,
   "id": "09971681",
   "metadata": {},
   "outputs": [
    {
     "data": {
      "text/plain": [
       "['Queue', 'demo', 'from', 'ifunanyaScript']"
      ]
     },
     "execution_count": 3,
     "metadata": {},
     "output_type": "execute_result"
    }
   ],
   "source": [
    "queue"
   ]
  },
  {
   "cell_type": "code",
   "execution_count": 4,
   "id": "522c98fa",
   "metadata": {},
   "outputs": [
    {
     "data": {
      "text/plain": [
       "'ifunanyaScript'"
      ]
     },
     "execution_count": 4,
     "metadata": {},
     "output_type": "execute_result"
    }
   ],
   "source": [
    "queue.pop()"
   ]
  },
  {
   "cell_type": "code",
   "execution_count": 5,
   "id": "e65090aa",
   "metadata": {},
   "outputs": [
    {
     "data": {
      "text/plain": [
       "'from'"
      ]
     },
     "execution_count": 5,
     "metadata": {},
     "output_type": "execute_result"
    }
   ],
   "source": [
    "queue.pop()"
   ]
  },
  {
   "cell_type": "code",
   "execution_count": 6,
   "id": "268647bc",
   "metadata": {},
   "outputs": [
    {
     "data": {
      "text/plain": [
       "'demo'"
      ]
     },
     "execution_count": 6,
     "metadata": {},
     "output_type": "execute_result"
    }
   ],
   "source": [
    "queue.pop()"
   ]
  },
  {
   "cell_type": "code",
   "execution_count": 7,
   "id": "8fe48090",
   "metadata": {},
   "outputs": [
    {
     "data": {
      "text/plain": [
       "'Queue'"
      ]
     },
     "execution_count": 7,
     "metadata": {},
     "output_type": "execute_result"
    }
   ],
   "source": [
    "queue.pop()"
   ]
  },
  {
   "cell_type": "code",
   "execution_count": 8,
   "id": "9a0ac3e2",
   "metadata": {
    "scrolled": true
   },
   "outputs": [
    {
     "data": {
      "text/plain": [
       "[]"
      ]
     },
     "execution_count": 8,
     "metadata": {},
     "output_type": "execute_result"
    }
   ],
   "source": [
    "queue"
   ]
  },
  {
   "cell_type": "markdown",
   "id": "ca149f9e",
   "metadata": {},
   "source": [
    "Now, the queue is empty. This is because `.pop()` returns the item at the end of the list and subsequently deletes the item from the list.  \n",
    "Let's implement a queue using the `deque`(double ended queue) from __collections__ library."
   ]
  },
  {
   "cell_type": "code",
   "execution_count": 9,
   "id": "c9403639",
   "metadata": {},
   "outputs": [],
   "source": [
    "# Import double ended queue.\n",
    "from collections import deque\n",
    "\n",
    "# Instantiate a queue object.\n",
    "queue = deque()"
   ]
  },
  {
   "cell_type": "code",
   "execution_count": 10,
   "id": "4a5b2a27",
   "metadata": {},
   "outputs": [],
   "source": [
    "queue.appendleft('ifunanyaScript')\n",
    "queue.appendleft('from')\n",
    "queue.appendleft('demo')\n",
    "queue.appendleft('Queue')"
   ]
  },
  {
   "cell_type": "markdown",
   "id": "e585fde2",
   "metadata": {},
   "source": [
    "Items are appended to the left end of the queue in this implementation. This is similar to inserting at index zero in the list implementation.  \n",
    "It is also done to push the preceeding items to the end of the queue, such that when `.pop()` is called, the first item in is the first item out... FIFO."
   ]
  },
  {
   "cell_type": "code",
   "execution_count": 11,
   "id": "28bcae38",
   "metadata": {},
   "outputs": [
    {
     "data": {
      "text/plain": [
       "deque(['Queue', 'demo', 'from', 'ifunanyaScript'])"
      ]
     },
     "execution_count": 11,
     "metadata": {},
     "output_type": "execute_result"
    }
   ],
   "source": [
    "queue"
   ]
  },
  {
   "cell_type": "code",
   "execution_count": 12,
   "id": "b9c62f3a",
   "metadata": {},
   "outputs": [
    {
     "data": {
      "text/plain": [
       "'ifunanyaScript'"
      ]
     },
     "execution_count": 12,
     "metadata": {},
     "output_type": "execute_result"
    }
   ],
   "source": [
    "queue.pop()"
   ]
  },
  {
   "cell_type": "code",
   "execution_count": 13,
   "id": "0d0715a7",
   "metadata": {},
   "outputs": [
    {
     "data": {
      "text/plain": [
       "'from'"
      ]
     },
     "execution_count": 13,
     "metadata": {},
     "output_type": "execute_result"
    }
   ],
   "source": [
    "queue.pop()"
   ]
  },
  {
   "cell_type": "code",
   "execution_count": 14,
   "id": "0901332a",
   "metadata": {},
   "outputs": [
    {
     "data": {
      "text/plain": [
       "'demo'"
      ]
     },
     "execution_count": 14,
     "metadata": {},
     "output_type": "execute_result"
    }
   ],
   "source": [
    "queue.pop()"
   ]
  },
  {
   "cell_type": "code",
   "execution_count": 15,
   "id": "046922ba",
   "metadata": {},
   "outputs": [
    {
     "data": {
      "text/plain": [
       "'Queue'"
      ]
     },
     "execution_count": 15,
     "metadata": {},
     "output_type": "execute_result"
    }
   ],
   "source": [
    "queue.pop()"
   ]
  },
  {
   "cell_type": "code",
   "execution_count": 16,
   "id": "5563aa80",
   "metadata": {},
   "outputs": [
    {
     "data": {
      "text/plain": [
       "deque([])"
      ]
     },
     "execution_count": 16,
     "metadata": {},
     "output_type": "execute_result"
    }
   ],
   "source": [
    "queue"
   ]
  },
  {
   "cell_type": "markdown",
   "id": "46cff64e",
   "metadata": {},
   "source": [
    "Similarly, the queue is also empty because `.pop()` returns the last item and also deletes it from the queue.<br>  \n",
    "Now, I'll create a custom Queue class using `deque`...."
   ]
  },
  {
   "cell_type": "code",
   "execution_count": 17,
   "id": "09204b11",
   "metadata": {},
   "outputs": [],
   "source": [
    "class Queue:\n",
    "    def __init__(self):\n",
    "        self.buffer = deque()\n",
    "        \n",
    "    def enqueue(self, item):\n",
    "        self.buffer.appendleft(item)\n",
    "        \n",
    "    def dequeue(self):\n",
    "        return self.buffer.pop()\n",
    "    \n",
    "    def isEmpty(self):\n",
    "        return len(self.buffer) == 0\n",
    "    \n",
    "    def length(self):\n",
    "        return len(self.buffer)"
   ]
  },
  {
   "cell_type": "code",
   "execution_count": 18,
   "id": "f5ca5f08",
   "metadata": {},
   "outputs": [],
   "source": [
    "queue = Queue()"
   ]
  },
  {
   "cell_type": "code",
   "execution_count": 19,
   "id": "b8b1f609",
   "metadata": {},
   "outputs": [
    {
     "data": {
      "text/plain": [
       "['__class__',\n",
       " '__delattr__',\n",
       " '__dict__',\n",
       " '__dir__',\n",
       " '__doc__',\n",
       " '__eq__',\n",
       " '__format__',\n",
       " '__ge__',\n",
       " '__getattribute__',\n",
       " '__gt__',\n",
       " '__hash__',\n",
       " '__init__',\n",
       " '__init_subclass__',\n",
       " '__le__',\n",
       " '__lt__',\n",
       " '__module__',\n",
       " '__ne__',\n",
       " '__new__',\n",
       " '__reduce__',\n",
       " '__reduce_ex__',\n",
       " '__repr__',\n",
       " '__setattr__',\n",
       " '__sizeof__',\n",
       " '__str__',\n",
       " '__subclasshook__',\n",
       " '__weakref__',\n",
       " 'buffer',\n",
       " 'dequeue',\n",
       " 'enqueue',\n",
       " 'isEmpty',\n",
       " 'length']"
      ]
     },
     "execution_count": 19,
     "metadata": {},
     "output_type": "execute_result"
    }
   ],
   "source": [
    "dir(queue)"
   ]
  },
  {
   "cell_type": "code",
   "execution_count": 20,
   "id": "aa92dcee",
   "metadata": {},
   "outputs": [
    {
     "data": {
      "text/plain": [
       "True"
      ]
     },
     "execution_count": 20,
     "metadata": {},
     "output_type": "execute_result"
    }
   ],
   "source": [
    "queue.isEmpty()"
   ]
  },
  {
   "cell_type": "code",
   "execution_count": 21,
   "id": "355ad661",
   "metadata": {},
   "outputs": [],
   "source": [
    "queue.enqueue('ifunanyaScript')\n",
    "queue.enqueue('from')\n",
    "queue.enqueue('demo')\n",
    "queue.enqueue('Queue')"
   ]
  },
  {
   "cell_type": "code",
   "execution_count": 22,
   "id": "29a2c2d2",
   "metadata": {},
   "outputs": [
    {
     "data": {
      "text/plain": [
       "<__main__.Queue at 0x7faba28c7070>"
      ]
     },
     "execution_count": 22,
     "metadata": {},
     "output_type": "execute_result"
    }
   ],
   "source": [
    "queue"
   ]
  },
  {
   "cell_type": "code",
   "execution_count": 23,
   "id": "dcc81171",
   "metadata": {},
   "outputs": [
    {
     "data": {
      "text/plain": [
       "deque(['Queue', 'demo', 'from', 'ifunanyaScript'])"
      ]
     },
     "execution_count": 23,
     "metadata": {},
     "output_type": "execute_result"
    }
   ],
   "source": [
    "queue.buffer"
   ]
  },
  {
   "cell_type": "code",
   "execution_count": 25,
   "id": "4b89c375",
   "metadata": {},
   "outputs": [
    {
     "data": {
      "text/plain": [
       "'ifunanyaScript'"
      ]
     },
     "execution_count": 25,
     "metadata": {},
     "output_type": "execute_result"
    }
   ],
   "source": [
    "queue.dequeue()"
   ]
  },
  {
   "cell_type": "code",
   "execution_count": 26,
   "id": "f56937d8",
   "metadata": {},
   "outputs": [
    {
     "data": {
      "text/plain": [
       "'from'"
      ]
     },
     "execution_count": 26,
     "metadata": {},
     "output_type": "execute_result"
    }
   ],
   "source": [
    "queue.dequeue()"
   ]
  },
  {
   "cell_type": "code",
   "execution_count": 27,
   "id": "e6cd5df7",
   "metadata": {},
   "outputs": [
    {
     "data": {
      "text/plain": [
       "'demo'"
      ]
     },
     "execution_count": 27,
     "metadata": {},
     "output_type": "execute_result"
    }
   ],
   "source": [
    "queue.dequeue()"
   ]
  },
  {
   "cell_type": "code",
   "execution_count": 28,
   "id": "33ba9893",
   "metadata": {},
   "outputs": [
    {
     "data": {
      "text/plain": [
       "'Queue'"
      ]
     },
     "execution_count": 28,
     "metadata": {},
     "output_type": "execute_result"
    }
   ],
   "source": [
    "queue.dequeue()"
   ]
  },
  {
   "cell_type": "code",
   "execution_count": 29,
   "id": "277c5176",
   "metadata": {},
   "outputs": [
    {
     "data": {
      "text/plain": [
       "deque([])"
      ]
     },
     "execution_count": 29,
     "metadata": {},
     "output_type": "execute_result"
    }
   ],
   "source": [
    "queue.buffer"
   ]
  },
  {
   "cell_type": "code",
   "execution_count": 30,
   "id": "e8834348",
   "metadata": {},
   "outputs": [
    {
     "data": {
      "text/plain": [
       "True"
      ]
     },
     "execution_count": 30,
     "metadata": {},
     "output_type": "execute_result"
    }
   ],
   "source": [
    "queue.isEmpty()"
   ]
  },
  {
   "cell_type": "code",
   "execution_count": 31,
   "id": "edf182c7",
   "metadata": {},
   "outputs": [
    {
     "data": {
      "text/plain": [
       "0"
      ]
     },
     "execution_count": 31,
     "metadata": {},
     "output_type": "execute_result"
    }
   ],
   "source": [
    "queue.length()"
   ]
  },
  {
   "cell_type": "code",
   "execution_count": null,
   "id": "75b4233b",
   "metadata": {},
   "outputs": [],
   "source": []
  }
 ],
 "metadata": {
  "kernelspec": {
   "display_name": "Python 3 (ipykernel)",
   "language": "python",
   "name": "python3"
  },
  "language_info": {
   "codemirror_mode": {
    "name": "ipython",
    "version": 3
   },
   "file_extension": ".py",
   "mimetype": "text/x-python",
   "name": "python",
   "nbconvert_exporter": "python",
   "pygments_lexer": "ipython3",
   "version": "3.9.12"
  }
 },
 "nbformat": 4,
 "nbformat_minor": 5
}
