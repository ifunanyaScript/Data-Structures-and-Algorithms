{
 "cells": [
  {
   "cell_type": "markdown",
   "id": "cf83a13f",
   "metadata": {},
   "source": [
    "# Hash Table(Dictionary)\n",
    "This is a demo of a hash table."
   ]
  },
  {
   "cell_type": "code",
   "execution_count": 11,
   "id": "0c73b782",
   "metadata": {},
   "outputs": [],
   "source": [
    "class HashTable:\n",
    "    def __init__(self):\n",
    "        self.MAX = 10\n",
    "        self.array = [[] for i in range(self.MAX)]\n",
    "    \n",
    "    def getHash(self, key):\n",
    "        h = 0\n",
    "        for character in key:\n",
    "            h += ord(character)\n",
    "        return h % self.MAX\n",
    "    \n",
    "    def __setitem__(self, key, value):\n",
    "        h = self.getHash(key)\n",
    "        found = False\n",
    "        for index, element in enumerate(self.array[h]):\n",
    "            if len(element)==2 and element[0]==key:\n",
    "                self.array[h][index] = (key, value)\n",
    "                found = True\n",
    "                break\n",
    "        if not found:\n",
    "            self.array[h].append((key, value))\n",
    "    \n",
    "    \n",
    "    def __getitem__(self, key):\n",
    "        h = self.getHash(key)\n",
    "        for element in self.array[h]:\n",
    "            if element[0] == key:\n",
    "                return element[1]\n",
    "    \n",
    "    def __delitem__(self, key):\n",
    "        h = self.getHash(key)\n",
    "        for index, kv in enumerate(self.array[h]):\n",
    "            if kv[0] == key:\n",
    "                del self.array[h][index]"
   ]
  },
  {
   "cell_type": "code",
   "execution_count": 25,
   "id": "3dabe62d",
   "metadata": {},
   "outputs": [],
   "source": [
    "class HashTable:  \n",
    "    def __init__(self):\n",
    "        self.MAX = 10 # I am keeping size very low to demonstrate linear probing easily but usually the size should be high\n",
    "        self.arr = [None for i in range(self.MAX)]\n",
    "        \n",
    "    def get_hash(self, key):\n",
    "        hash = 0\n",
    "        for char in key:\n",
    "            hash += ord(char)\n",
    "        return hash % self.MAX\n",
    "    \n",
    "    def __getitem__(self, key):\n",
    "        h = self.get_hash(key)\n",
    "        if self.arr[h] is None:\n",
    "            return\n",
    "        prob_range = self.get_prob_range(h)\n",
    "        for prob_index in prob_range:\n",
    "            element = self.arr[prob_index]\n",
    "            if element is None:\n",
    "                return\n",
    "            if element[0] == key:\n",
    "                return element[1]\n",
    "           \n",
    "    def __setitem__(self, key, val):\n",
    "        h = self.get_hash(key)\n",
    "        if self.arr[h] is None:\n",
    "            self.arr[h] = (key,val)\n",
    "        else:\n",
    "            new_h = self.find_slot(key, h)\n",
    "            self.arr[new_h] = (key,val)\n",
    "        print(self.arr)\n",
    "        \n",
    "    def get_prob_range(self, index):\n",
    "        return [*range(index, len(self.arr))] + [*range(0,index)]\n",
    "    \n",
    "    def find_slot(self, key, index):\n",
    "        prob_range = self.get_prob_range(index)\n",
    "        for prob_index in prob_range:\n",
    "            if self.arr[prob_index] is None:\n",
    "                return prob_index\n",
    "            if self.arr[prob_index][0] == key:\n",
    "                return prob_index\n",
    "        raise Exception(\"Hashmap full\")\n",
    "        \n",
    "    def __delitem__(self, key):\n",
    "        h = self.get_hash(key)\n",
    "        prob_range = self.get_prob_range(h)\n",
    "        for prob_index in prob_range:\n",
    "            if self.arr[prob_index] is None:\n",
    "                return # item not found so return. You can also throw exception\n",
    "            if self.arr[prob_index][0] == key:\n",
    "                self.arr[prob_index]=None\n",
    "        print(self.arr)"
   ]
  },
  {
   "cell_type": "code",
   "execution_count": 43,
   "id": "53828fcc",
   "metadata": {},
   "outputs": [
    {
     "data": {
      "text/plain": [
       "[5, 7, 9, 0, 2, 4]"
      ]
     },
     "execution_count": 43,
     "metadata": {},
     "output_type": "execute_result"
    }
   ],
   "source": [
    "[*range(5, 10, 2)] + [*range(0, 6, 2)]"
   ]
  },
  {
   "cell_type": "code",
   "execution_count": 35,
   "id": "b9fde9b7",
   "metadata": {},
   "outputs": [],
   "source": [
    "range()"
   ]
  },
  {
   "cell_type": "code",
   "execution_count": 44,
   "id": "eaf866ec",
   "metadata": {},
   "outputs": [],
   "source": [
    "def fgr(th):\n",
    "    if th:\n",
    "        return"
   ]
  },
  {
   "cell_type": "code",
   "execution_count": 45,
   "id": "3cbb62bb",
   "metadata": {},
   "outputs": [],
   "source": [
    "fgr(34)"
   ]
  },
  {
   "cell_type": "code",
   "execution_count": 47,
   "id": "4c2ea932",
   "metadata": {},
   "outputs": [
    {
     "data": {
      "text/plain": [
       "[5, 6, 7, 8, 9, 0, 1, 2, 3, 4, 5, 6, 7, 8]"
      ]
     },
     "execution_count": 47,
     "metadata": {},
     "output_type": "execute_result"
    }
   ],
   "source": [
    "[*range(5, 10)] + [*range(0,9)]"
   ]
  },
  {
   "cell_type": "code",
   "execution_count": null,
   "id": "4eaeffff",
   "metadata": {},
   "outputs": [],
   "source": []
  }
 ],
 "metadata": {
  "kernelspec": {
   "display_name": "Python 3 (ipykernel)",
   "language": "python",
   "name": "python3"
  },
  "language_info": {
   "codemirror_mode": {
    "name": "ipython",
    "version": 3
   },
   "file_extension": ".py",
   "mimetype": "text/x-python",
   "name": "python",
   "nbconvert_exporter": "python",
   "pygments_lexer": "ipython3",
   "version": "3.9.12"
  }
 },
 "nbformat": 4,
 "nbformat_minor": 5
}
